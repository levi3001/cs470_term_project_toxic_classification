{
  "cells": [
    {
      "cell_type": "code",
      "execution_count": null,
      "metadata": {
        "id": "6940f86e"
      },
      "outputs": [],
      "source": [
        "try:\n",
        "    %tensorflow_version 2.x\n",
        "except Exception:\n",
        "    pass\n",
        "\n",
        "import tensorflow as tf\n",
        "import numpy as np\n",
        "import matplotlib.pyplot as plt\n",
        "import pandas as pd\n",
        "import re"
      ],
      "id": "6940f86e"
    },
    {
      "cell_type": "code",
      "execution_count": null,
      "metadata": {
        "colab": {
          "base_uri": "https://localhost:8080/"
        },
        "id": "1VAO1fllsZO_",
        "outputId": "d2082dbc-d70e-43c5-a2c0-09f47b9f919d"
      },
      "outputs": [
        {
          "output_type": "stream",
          "name": "stdout",
          "text": [
            "Drive already mounted at /content/drive; to attempt to forcibly remount, call drive.mount(\"/content/drive\", force_remount=True).\n"
          ]
        }
      ],
      "source": [
        "from google.colab import drive\n",
        "drive.mount('/content/drive')"
      ],
      "id": "1VAO1fllsZO_"
    },
    {
      "cell_type": "code",
      "execution_count": null,
      "metadata": {
        "colab": {
          "base_uri": "https://localhost:8080/"
        },
        "id": "ljA7St3msizP",
        "outputId": "f69d3603-d08b-4bc8-f5e6-d8226baaccd0"
      },
      "outputs": [
        {
          "output_type": "stream",
          "name": "stdout",
          "text": [
            "Archive:  drive/MyDrive/jigsaw-toxic-comment-classification-challenge.zip\n",
            "replace data/sample_submission.csv.zip? [y]es, [n]o, [A]ll, [N]one, [r]ename: "
          ]
        }
      ],
      "source": [
        "!unzip drive/MyDrive/jigsaw-toxic-comment-classification-challenge.zip -d data"
      ],
      "id": "ljA7St3msizP"
    },
    {
      "cell_type": "code",
      "execution_count": null,
      "metadata": {
        "id": "90d99ec8"
      },
      "outputs": [],
      "source": [
        "train_data=pd.read_csv('data/train.csv.zip')"
      ],
      "id": "90d99ec8"
    },
    {
      "cell_type": "code",
      "execution_count": null,
      "metadata": {
        "colab": {
          "base_uri": "https://localhost:8080/",
          "height": 423
        },
        "id": "6afdc10c",
        "outputId": "fbd31265-7389-4138-8bc5-8cfe69156b47"
      },
      "outputs": [
        {
          "output_type": "execute_result",
          "data": {
            "text/html": [
              "\n",
              "  <div id=\"df-fddc2285-0b59-4fc0-9ed4-faeda4bc5136\">\n",
              "    <div class=\"colab-df-container\">\n",
              "      <div>\n",
              "<style scoped>\n",
              "    .dataframe tbody tr th:only-of-type {\n",
              "        vertical-align: middle;\n",
              "    }\n",
              "\n",
              "    .dataframe tbody tr th {\n",
              "        vertical-align: top;\n",
              "    }\n",
              "\n",
              "    .dataframe thead th {\n",
              "        text-align: right;\n",
              "    }\n",
              "</style>\n",
              "<table border=\"1\" class=\"dataframe\">\n",
              "  <thead>\n",
              "    <tr style=\"text-align: right;\">\n",
              "      <th></th>\n",
              "      <th>id</th>\n",
              "      <th>comment_text</th>\n",
              "      <th>toxic</th>\n",
              "      <th>severe_toxic</th>\n",
              "      <th>obscene</th>\n",
              "      <th>threat</th>\n",
              "      <th>insult</th>\n",
              "      <th>identity_hate</th>\n",
              "    </tr>\n",
              "  </thead>\n",
              "  <tbody>\n",
              "    <tr>\n",
              "      <th>0</th>\n",
              "      <td>0000997932d777bf</td>\n",
              "      <td>Explanation\\nWhy the edits made under my usern...</td>\n",
              "      <td>0</td>\n",
              "      <td>0</td>\n",
              "      <td>0</td>\n",
              "      <td>0</td>\n",
              "      <td>0</td>\n",
              "      <td>0</td>\n",
              "    </tr>\n",
              "    <tr>\n",
              "      <th>1</th>\n",
              "      <td>000103f0d9cfb60f</td>\n",
              "      <td>D'aww! He matches this background colour I'm s...</td>\n",
              "      <td>0</td>\n",
              "      <td>0</td>\n",
              "      <td>0</td>\n",
              "      <td>0</td>\n",
              "      <td>0</td>\n",
              "      <td>0</td>\n",
              "    </tr>\n",
              "    <tr>\n",
              "      <th>2</th>\n",
              "      <td>000113f07ec002fd</td>\n",
              "      <td>Hey man, I'm really not trying to edit war. It...</td>\n",
              "      <td>0</td>\n",
              "      <td>0</td>\n",
              "      <td>0</td>\n",
              "      <td>0</td>\n",
              "      <td>0</td>\n",
              "      <td>0</td>\n",
              "    </tr>\n",
              "    <tr>\n",
              "      <th>3</th>\n",
              "      <td>0001b41b1c6bb37e</td>\n",
              "      <td>\"\\nMore\\nI can't make any real suggestions on ...</td>\n",
              "      <td>0</td>\n",
              "      <td>0</td>\n",
              "      <td>0</td>\n",
              "      <td>0</td>\n",
              "      <td>0</td>\n",
              "      <td>0</td>\n",
              "    </tr>\n",
              "    <tr>\n",
              "      <th>4</th>\n",
              "      <td>0001d958c54c6e35</td>\n",
              "      <td>You, sir, are my hero. Any chance you remember...</td>\n",
              "      <td>0</td>\n",
              "      <td>0</td>\n",
              "      <td>0</td>\n",
              "      <td>0</td>\n",
              "      <td>0</td>\n",
              "      <td>0</td>\n",
              "    </tr>\n",
              "    <tr>\n",
              "      <th>...</th>\n",
              "      <td>...</td>\n",
              "      <td>...</td>\n",
              "      <td>...</td>\n",
              "      <td>...</td>\n",
              "      <td>...</td>\n",
              "      <td>...</td>\n",
              "      <td>...</td>\n",
              "      <td>...</td>\n",
              "    </tr>\n",
              "    <tr>\n",
              "      <th>159566</th>\n",
              "      <td>ffe987279560d7ff</td>\n",
              "      <td>\":::::And for the second time of asking, when ...</td>\n",
              "      <td>0</td>\n",
              "      <td>0</td>\n",
              "      <td>0</td>\n",
              "      <td>0</td>\n",
              "      <td>0</td>\n",
              "      <td>0</td>\n",
              "    </tr>\n",
              "    <tr>\n",
              "      <th>159567</th>\n",
              "      <td>ffea4adeee384e90</td>\n",
              "      <td>You should be ashamed of yourself \\n\\nThat is ...</td>\n",
              "      <td>0</td>\n",
              "      <td>0</td>\n",
              "      <td>0</td>\n",
              "      <td>0</td>\n",
              "      <td>0</td>\n",
              "      <td>0</td>\n",
              "    </tr>\n",
              "    <tr>\n",
              "      <th>159568</th>\n",
              "      <td>ffee36eab5c267c9</td>\n",
              "      <td>Spitzer \\n\\nUmm, theres no actual article for ...</td>\n",
              "      <td>0</td>\n",
              "      <td>0</td>\n",
              "      <td>0</td>\n",
              "      <td>0</td>\n",
              "      <td>0</td>\n",
              "      <td>0</td>\n",
              "    </tr>\n",
              "    <tr>\n",
              "      <th>159569</th>\n",
              "      <td>fff125370e4aaaf3</td>\n",
              "      <td>And it looks like it was actually you who put ...</td>\n",
              "      <td>0</td>\n",
              "      <td>0</td>\n",
              "      <td>0</td>\n",
              "      <td>0</td>\n",
              "      <td>0</td>\n",
              "      <td>0</td>\n",
              "    </tr>\n",
              "    <tr>\n",
              "      <th>159570</th>\n",
              "      <td>fff46fc426af1f9a</td>\n",
              "      <td>\"\\nAnd ... I really don't think you understand...</td>\n",
              "      <td>0</td>\n",
              "      <td>0</td>\n",
              "      <td>0</td>\n",
              "      <td>0</td>\n",
              "      <td>0</td>\n",
              "      <td>0</td>\n",
              "    </tr>\n",
              "  </tbody>\n",
              "</table>\n",
              "<p>159571 rows × 8 columns</p>\n",
              "</div>\n",
              "      <button class=\"colab-df-convert\" onclick=\"convertToInteractive('df-fddc2285-0b59-4fc0-9ed4-faeda4bc5136')\"\n",
              "              title=\"Convert this dataframe to an interactive table.\"\n",
              "              style=\"display:none;\">\n",
              "        \n",
              "  <svg xmlns=\"http://www.w3.org/2000/svg\" height=\"24px\"viewBox=\"0 0 24 24\"\n",
              "       width=\"24px\">\n",
              "    <path d=\"M0 0h24v24H0V0z\" fill=\"none\"/>\n",
              "    <path d=\"M18.56 5.44l.94 2.06.94-2.06 2.06-.94-2.06-.94-.94-2.06-.94 2.06-2.06.94zm-11 1L8.5 8.5l.94-2.06 2.06-.94-2.06-.94L8.5 2.5l-.94 2.06-2.06.94zm10 10l.94 2.06.94-2.06 2.06-.94-2.06-.94-.94-2.06-.94 2.06-2.06.94z\"/><path d=\"M17.41 7.96l-1.37-1.37c-.4-.4-.92-.59-1.43-.59-.52 0-1.04.2-1.43.59L10.3 9.45l-7.72 7.72c-.78.78-.78 2.05 0 2.83L4 21.41c.39.39.9.59 1.41.59.51 0 1.02-.2 1.41-.59l7.78-7.78 2.81-2.81c.8-.78.8-2.07 0-2.86zM5.41 20L4 18.59l7.72-7.72 1.47 1.35L5.41 20z\"/>\n",
              "  </svg>\n",
              "      </button>\n",
              "      \n",
              "  <style>\n",
              "    .colab-df-container {\n",
              "      display:flex;\n",
              "      flex-wrap:wrap;\n",
              "      gap: 12px;\n",
              "    }\n",
              "\n",
              "    .colab-df-convert {\n",
              "      background-color: #E8F0FE;\n",
              "      border: none;\n",
              "      border-radius: 50%;\n",
              "      cursor: pointer;\n",
              "      display: none;\n",
              "      fill: #1967D2;\n",
              "      height: 32px;\n",
              "      padding: 0 0 0 0;\n",
              "      width: 32px;\n",
              "    }\n",
              "\n",
              "    .colab-df-convert:hover {\n",
              "      background-color: #E2EBFA;\n",
              "      box-shadow: 0px 1px 2px rgba(60, 64, 67, 0.3), 0px 1px 3px 1px rgba(60, 64, 67, 0.15);\n",
              "      fill: #174EA6;\n",
              "    }\n",
              "\n",
              "    [theme=dark] .colab-df-convert {\n",
              "      background-color: #3B4455;\n",
              "      fill: #D2E3FC;\n",
              "    }\n",
              "\n",
              "    [theme=dark] .colab-df-convert:hover {\n",
              "      background-color: #434B5C;\n",
              "      box-shadow: 0px 1px 3px 1px rgba(0, 0, 0, 0.15);\n",
              "      filter: drop-shadow(0px 1px 2px rgba(0, 0, 0, 0.3));\n",
              "      fill: #FFFFFF;\n",
              "    }\n",
              "  </style>\n",
              "\n",
              "      <script>\n",
              "        const buttonEl =\n",
              "          document.querySelector('#df-fddc2285-0b59-4fc0-9ed4-faeda4bc5136 button.colab-df-convert');\n",
              "        buttonEl.style.display =\n",
              "          google.colab.kernel.accessAllowed ? 'block' : 'none';\n",
              "\n",
              "        async function convertToInteractive(key) {\n",
              "          const element = document.querySelector('#df-fddc2285-0b59-4fc0-9ed4-faeda4bc5136');\n",
              "          const dataTable =\n",
              "            await google.colab.kernel.invokeFunction('convertToInteractive',\n",
              "                                                     [key], {});\n",
              "          if (!dataTable) return;\n",
              "\n",
              "          const docLinkHtml = 'Like what you see? Visit the ' +\n",
              "            '<a target=\"_blank\" href=https://colab.research.google.com/notebooks/data_table.ipynb>data table notebook</a>'\n",
              "            + ' to learn more about interactive tables.';\n",
              "          element.innerHTML = '';\n",
              "          dataTable['output_type'] = 'display_data';\n",
              "          await google.colab.output.renderOutput(dataTable, element);\n",
              "          const docLink = document.createElement('div');\n",
              "          docLink.innerHTML = docLinkHtml;\n",
              "          element.appendChild(docLink);\n",
              "        }\n",
              "      </script>\n",
              "    </div>\n",
              "  </div>\n",
              "  "
            ],
            "text/plain": [
              "                      id  ... identity_hate\n",
              "0       0000997932d777bf  ...             0\n",
              "1       000103f0d9cfb60f  ...             0\n",
              "2       000113f07ec002fd  ...             0\n",
              "3       0001b41b1c6bb37e  ...             0\n",
              "4       0001d958c54c6e35  ...             0\n",
              "...                  ...  ...           ...\n",
              "159566  ffe987279560d7ff  ...             0\n",
              "159567  ffea4adeee384e90  ...             0\n",
              "159568  ffee36eab5c267c9  ...             0\n",
              "159569  fff125370e4aaaf3  ...             0\n",
              "159570  fff46fc426af1f9a  ...             0\n",
              "\n",
              "[159571 rows x 8 columns]"
            ]
          },
          "metadata": {},
          "execution_count": 88
        }
      ],
      "source": [
        "train_data"
      ],
      "id": "6afdc10c"
    },
    {
      "cell_type": "code",
      "execution_count": null,
      "metadata": {
        "id": "d43a7346"
      },
      "outputs": [],
      "source": [
        "test_data=pd.read_csv('data/test.csv.zip')"
      ],
      "id": "d43a7346"
    },
    {
      "cell_type": "code",
      "execution_count": null,
      "metadata": {
        "colab": {
          "base_uri": "https://localhost:8080/",
          "height": 423
        },
        "id": "d06317cc",
        "outputId": "83767981-7294-4dc7-f0dc-cff1d858b363"
      },
      "outputs": [
        {
          "output_type": "execute_result",
          "data": {
            "text/html": [
              "\n",
              "  <div id=\"df-e7bcfb31-2719-4dd2-b8e8-4bf25e91fb94\">\n",
              "    <div class=\"colab-df-container\">\n",
              "      <div>\n",
              "<style scoped>\n",
              "    .dataframe tbody tr th:only-of-type {\n",
              "        vertical-align: middle;\n",
              "    }\n",
              "\n",
              "    .dataframe tbody tr th {\n",
              "        vertical-align: top;\n",
              "    }\n",
              "\n",
              "    .dataframe thead th {\n",
              "        text-align: right;\n",
              "    }\n",
              "</style>\n",
              "<table border=\"1\" class=\"dataframe\">\n",
              "  <thead>\n",
              "    <tr style=\"text-align: right;\">\n",
              "      <th></th>\n",
              "      <th>id</th>\n",
              "      <th>comment_text</th>\n",
              "    </tr>\n",
              "  </thead>\n",
              "  <tbody>\n",
              "    <tr>\n",
              "      <th>0</th>\n",
              "      <td>00001cee341fdb12</td>\n",
              "      <td>Yo bitch Ja Rule is more succesful then you'll...</td>\n",
              "    </tr>\n",
              "    <tr>\n",
              "      <th>1</th>\n",
              "      <td>0000247867823ef7</td>\n",
              "      <td>== From RfC == \\n\\n The title is fine as it is...</td>\n",
              "    </tr>\n",
              "    <tr>\n",
              "      <th>2</th>\n",
              "      <td>00013b17ad220c46</td>\n",
              "      <td>\" \\n\\n == Sources == \\n\\n * Zawe Ashton on Lap...</td>\n",
              "    </tr>\n",
              "    <tr>\n",
              "      <th>3</th>\n",
              "      <td>00017563c3f7919a</td>\n",
              "      <td>:If you have a look back at the source, the in...</td>\n",
              "    </tr>\n",
              "    <tr>\n",
              "      <th>4</th>\n",
              "      <td>00017695ad8997eb</td>\n",
              "      <td>I don't anonymously edit articles at all.</td>\n",
              "    </tr>\n",
              "    <tr>\n",
              "      <th>...</th>\n",
              "      <td>...</td>\n",
              "      <td>...</td>\n",
              "    </tr>\n",
              "    <tr>\n",
              "      <th>153159</th>\n",
              "      <td>fffcd0960ee309b5</td>\n",
              "      <td>. \\n i totally agree, this stuff is nothing bu...</td>\n",
              "    </tr>\n",
              "    <tr>\n",
              "      <th>153160</th>\n",
              "      <td>fffd7a9a6eb32c16</td>\n",
              "      <td>== Throw from out field to home plate. == \\n\\n...</td>\n",
              "    </tr>\n",
              "    <tr>\n",
              "      <th>153161</th>\n",
              "      <td>fffda9e8d6fafa9e</td>\n",
              "      <td>\" \\n\\n == Okinotorishima categories == \\n\\n I ...</td>\n",
              "    </tr>\n",
              "    <tr>\n",
              "      <th>153162</th>\n",
              "      <td>fffe8f1340a79fc2</td>\n",
              "      <td>\" \\n\\n == \"\"One of the founding nations of the...</td>\n",
              "    </tr>\n",
              "    <tr>\n",
              "      <th>153163</th>\n",
              "      <td>ffffce3fb183ee80</td>\n",
              "      <td>\" \\n :::Stop already. Your bullshit is not wel...</td>\n",
              "    </tr>\n",
              "  </tbody>\n",
              "</table>\n",
              "<p>153164 rows × 2 columns</p>\n",
              "</div>\n",
              "      <button class=\"colab-df-convert\" onclick=\"convertToInteractive('df-e7bcfb31-2719-4dd2-b8e8-4bf25e91fb94')\"\n",
              "              title=\"Convert this dataframe to an interactive table.\"\n",
              "              style=\"display:none;\">\n",
              "        \n",
              "  <svg xmlns=\"http://www.w3.org/2000/svg\" height=\"24px\"viewBox=\"0 0 24 24\"\n",
              "       width=\"24px\">\n",
              "    <path d=\"M0 0h24v24H0V0z\" fill=\"none\"/>\n",
              "    <path d=\"M18.56 5.44l.94 2.06.94-2.06 2.06-.94-2.06-.94-.94-2.06-.94 2.06-2.06.94zm-11 1L8.5 8.5l.94-2.06 2.06-.94-2.06-.94L8.5 2.5l-.94 2.06-2.06.94zm10 10l.94 2.06.94-2.06 2.06-.94-2.06-.94-.94-2.06-.94 2.06-2.06.94z\"/><path d=\"M17.41 7.96l-1.37-1.37c-.4-.4-.92-.59-1.43-.59-.52 0-1.04.2-1.43.59L10.3 9.45l-7.72 7.72c-.78.78-.78 2.05 0 2.83L4 21.41c.39.39.9.59 1.41.59.51 0 1.02-.2 1.41-.59l7.78-7.78 2.81-2.81c.8-.78.8-2.07 0-2.86zM5.41 20L4 18.59l7.72-7.72 1.47 1.35L5.41 20z\"/>\n",
              "  </svg>\n",
              "      </button>\n",
              "      \n",
              "  <style>\n",
              "    .colab-df-container {\n",
              "      display:flex;\n",
              "      flex-wrap:wrap;\n",
              "      gap: 12px;\n",
              "    }\n",
              "\n",
              "    .colab-df-convert {\n",
              "      background-color: #E8F0FE;\n",
              "      border: none;\n",
              "      border-radius: 50%;\n",
              "      cursor: pointer;\n",
              "      display: none;\n",
              "      fill: #1967D2;\n",
              "      height: 32px;\n",
              "      padding: 0 0 0 0;\n",
              "      width: 32px;\n",
              "    }\n",
              "\n",
              "    .colab-df-convert:hover {\n",
              "      background-color: #E2EBFA;\n",
              "      box-shadow: 0px 1px 2px rgba(60, 64, 67, 0.3), 0px 1px 3px 1px rgba(60, 64, 67, 0.15);\n",
              "      fill: #174EA6;\n",
              "    }\n",
              "\n",
              "    [theme=dark] .colab-df-convert {\n",
              "      background-color: #3B4455;\n",
              "      fill: #D2E3FC;\n",
              "    }\n",
              "\n",
              "    [theme=dark] .colab-df-convert:hover {\n",
              "      background-color: #434B5C;\n",
              "      box-shadow: 0px 1px 3px 1px rgba(0, 0, 0, 0.15);\n",
              "      filter: drop-shadow(0px 1px 2px rgba(0, 0, 0, 0.3));\n",
              "      fill: #FFFFFF;\n",
              "    }\n",
              "  </style>\n",
              "\n",
              "      <script>\n",
              "        const buttonEl =\n",
              "          document.querySelector('#df-e7bcfb31-2719-4dd2-b8e8-4bf25e91fb94 button.colab-df-convert');\n",
              "        buttonEl.style.display =\n",
              "          google.colab.kernel.accessAllowed ? 'block' : 'none';\n",
              "\n",
              "        async function convertToInteractive(key) {\n",
              "          const element = document.querySelector('#df-e7bcfb31-2719-4dd2-b8e8-4bf25e91fb94');\n",
              "          const dataTable =\n",
              "            await google.colab.kernel.invokeFunction('convertToInteractive',\n",
              "                                                     [key], {});\n",
              "          if (!dataTable) return;\n",
              "\n",
              "          const docLinkHtml = 'Like what you see? Visit the ' +\n",
              "            '<a target=\"_blank\" href=https://colab.research.google.com/notebooks/data_table.ipynb>data table notebook</a>'\n",
              "            + ' to learn more about interactive tables.';\n",
              "          element.innerHTML = '';\n",
              "          dataTable['output_type'] = 'display_data';\n",
              "          await google.colab.output.renderOutput(dataTable, element);\n",
              "          const docLink = document.createElement('div');\n",
              "          docLink.innerHTML = docLinkHtml;\n",
              "          element.appendChild(docLink);\n",
              "        }\n",
              "      </script>\n",
              "    </div>\n",
              "  </div>\n",
              "  "
            ],
            "text/plain": [
              "                      id                                       comment_text\n",
              "0       00001cee341fdb12  Yo bitch Ja Rule is more succesful then you'll...\n",
              "1       0000247867823ef7  == From RfC == \\n\\n The title is fine as it is...\n",
              "2       00013b17ad220c46  \" \\n\\n == Sources == \\n\\n * Zawe Ashton on Lap...\n",
              "3       00017563c3f7919a  :If you have a look back at the source, the in...\n",
              "4       00017695ad8997eb          I don't anonymously edit articles at all.\n",
              "...                  ...                                                ...\n",
              "153159  fffcd0960ee309b5  . \\n i totally agree, this stuff is nothing bu...\n",
              "153160  fffd7a9a6eb32c16  == Throw from out field to home plate. == \\n\\n...\n",
              "153161  fffda9e8d6fafa9e  \" \\n\\n == Okinotorishima categories == \\n\\n I ...\n",
              "153162  fffe8f1340a79fc2  \" \\n\\n == \"\"One of the founding nations of the...\n",
              "153163  ffffce3fb183ee80  \" \\n :::Stop already. Your bullshit is not wel...\n",
              "\n",
              "[153164 rows x 2 columns]"
            ]
          },
          "metadata": {},
          "execution_count": 90
        }
      ],
      "source": [
        "test_data"
      ],
      "id": "d06317cc"
    },
    {
      "cell_type": "code",
      "execution_count": null,
      "metadata": {
        "id": "zldoGNuvAGzM"
      },
      "outputs": [],
      "source": [
        "# from sklearn.feature_extraction.text import ENGLISH_STOP_WORDS\n",
        "\n",
        "# def remove_stop_word(text):\n",
        "#   words = [word for word in text.split() if word.lower() not in ENGLISH_STOP_WORDS]\n",
        "#   return \" \".join(words)"
      ],
      "id": "zldoGNuvAGzM"
    },
    {
      "cell_type": "code",
      "execution_count": null,
      "metadata": {
        "id": "8SUZwI3HCp3x"
      },
      "outputs": [],
      "source": [
        "import string\n",
        "def remove_punc(text):\n",
        "  return text.translate(str.maketrans('', '', string.punctuation))"
      ],
      "id": "8SUZwI3HCp3x"
    },
    {
      "cell_type": "code",
      "execution_count": null,
      "metadata": {
        "id": "NZLux8WqGOZh"
      },
      "outputs": [],
      "source": [
        "# import nltk\n",
        "# from nltk.stem.porter import PorterStemmer\n",
        "\n",
        "# def stem(text):\n",
        "#   porter_stemmer = PorterStemmer()\n",
        "#   words = [porter_stemmer.stem(word) for word in text.split()]\n",
        "#   return \" \".join(words)"
      ],
      "id": "NZLux8WqGOZh"
    },
    {
      "cell_type": "code",
      "execution_count": null,
      "metadata": {
        "id": "4667a914"
      },
      "outputs": [],
      "source": [
        "def clean_text(text):\n",
        "    text = text.lower()\n",
        "    text = re.sub(r\"what's\", \"what is \", text)\n",
        "    text = re.sub(r\"\\'s\", \" \", text)\n",
        "    text = re.sub(r\"\\'ve\", \" have \", text)\n",
        "    text = re.sub(r\"can't\", \"cannot \", text)\n",
        "    text = re.sub(r\"n't\", \" not \", text)\n",
        "    text = re.sub(r\"i'm\", \"i am \", text)\n",
        "    text = re.sub(r\"\\'re\", \" are \", text)\n",
        "    text = re.sub(r\"\\'d\", \" would \", text)\n",
        "    text = re.sub(r\"\\'ll\", \" will \", text)\n",
        "    text = re.sub(r\"\\'scuse\", \" excuse \", text)\n",
        "    text = re.sub('\\W', ' ', text)\n",
        "    text = re.sub('\\s+', ' ', text)\n",
        "    text = text.strip(' ')\n",
        "    return text\n",
        "#https://www.kaggle.com/gtskyler/toxic-comments-bert"
      ],
      "id": "4667a914"
    },
    {
      "cell_type": "code",
      "execution_count": null,
      "metadata": {
        "id": "rEiFxKy2IEcz"
      },
      "outputs": [],
      "source": [
        "# train_data['comment_texxxt'] = train_data['comment_text'].map(lambda text: clean_text(text)).map(lambda text: remove_punc(text)).map(lambda text: remove_stop_word(text))\n",
        "# test_data['comment_texxxt'] = test_data['comment_text'].map(lambda text: clean_text(text)).map(lambda text: remove_punc(text)).map(lambda text: remove_stop_word(text))\n",
        "train_data['comment_texxxt'] = train_data['comment_text'].map(lambda text: clean_text(text)).map(lambda text: remove_punc(text))\n",
        "test_data['comment_texxxt'] = test_data['comment_text'].map(lambda text: clean_text(text)).map(lambda text: remove_punc(text))"
      ],
      "id": "rEiFxKy2IEcz"
    },
    {
      "cell_type": "code",
      "execution_count": null,
      "metadata": {
        "colab": {
          "base_uri": "https://localhost:8080/",
          "height": 641
        },
        "id": "b812599c",
        "outputId": "845f7a5e-010e-4f97-ef0d-e61bcf5ab958"
      },
      "outputs": [
        {
          "output_type": "execute_result",
          "data": {
            "text/html": [
              "\n",
              "  <div id=\"df-6ae852b3-c39e-4c8e-8c63-68bb7d7a25ad\">\n",
              "    <div class=\"colab-df-container\">\n",
              "      <div>\n",
              "<style scoped>\n",
              "    .dataframe tbody tr th:only-of-type {\n",
              "        vertical-align: middle;\n",
              "    }\n",
              "\n",
              "    .dataframe tbody tr th {\n",
              "        vertical-align: top;\n",
              "    }\n",
              "\n",
              "    .dataframe thead th {\n",
              "        text-align: right;\n",
              "    }\n",
              "</style>\n",
              "<table border=\"1\" class=\"dataframe\">\n",
              "  <thead>\n",
              "    <tr style=\"text-align: right;\">\n",
              "      <th></th>\n",
              "      <th>id</th>\n",
              "      <th>comment_text</th>\n",
              "      <th>toxic</th>\n",
              "      <th>severe_toxic</th>\n",
              "      <th>obscene</th>\n",
              "      <th>threat</th>\n",
              "      <th>insult</th>\n",
              "      <th>identity_hate</th>\n",
              "      <th>comment_texxxt</th>\n",
              "    </tr>\n",
              "  </thead>\n",
              "  <tbody>\n",
              "    <tr>\n",
              "      <th>0</th>\n",
              "      <td>0000997932d777bf</td>\n",
              "      <td>Explanation\\nWhy the edits made under my usern...</td>\n",
              "      <td>0</td>\n",
              "      <td>0</td>\n",
              "      <td>0</td>\n",
              "      <td>0</td>\n",
              "      <td>0</td>\n",
              "      <td>0</td>\n",
              "      <td>explanation why the edits made under my userna...</td>\n",
              "    </tr>\n",
              "    <tr>\n",
              "      <th>1</th>\n",
              "      <td>000103f0d9cfb60f</td>\n",
              "      <td>D'aww! He matches this background colour I'm s...</td>\n",
              "      <td>0</td>\n",
              "      <td>0</td>\n",
              "      <td>0</td>\n",
              "      <td>0</td>\n",
              "      <td>0</td>\n",
              "      <td>0</td>\n",
              "      <td>d aww he matches this background colour i am s...</td>\n",
              "    </tr>\n",
              "    <tr>\n",
              "      <th>2</th>\n",
              "      <td>000113f07ec002fd</td>\n",
              "      <td>Hey man, I'm really not trying to edit war. It...</td>\n",
              "      <td>0</td>\n",
              "      <td>0</td>\n",
              "      <td>0</td>\n",
              "      <td>0</td>\n",
              "      <td>0</td>\n",
              "      <td>0</td>\n",
              "      <td>hey man i am really not trying to edit war it ...</td>\n",
              "    </tr>\n",
              "    <tr>\n",
              "      <th>3</th>\n",
              "      <td>0001b41b1c6bb37e</td>\n",
              "      <td>\"\\nMore\\nI can't make any real suggestions on ...</td>\n",
              "      <td>0</td>\n",
              "      <td>0</td>\n",
              "      <td>0</td>\n",
              "      <td>0</td>\n",
              "      <td>0</td>\n",
              "      <td>0</td>\n",
              "      <td>more i cannot make any real suggestions on imp...</td>\n",
              "    </tr>\n",
              "    <tr>\n",
              "      <th>4</th>\n",
              "      <td>0001d958c54c6e35</td>\n",
              "      <td>You, sir, are my hero. Any chance you remember...</td>\n",
              "      <td>0</td>\n",
              "      <td>0</td>\n",
              "      <td>0</td>\n",
              "      <td>0</td>\n",
              "      <td>0</td>\n",
              "      <td>0</td>\n",
              "      <td>you sir are my hero any chance you remember wh...</td>\n",
              "    </tr>\n",
              "    <tr>\n",
              "      <th>...</th>\n",
              "      <td>...</td>\n",
              "      <td>...</td>\n",
              "      <td>...</td>\n",
              "      <td>...</td>\n",
              "      <td>...</td>\n",
              "      <td>...</td>\n",
              "      <td>...</td>\n",
              "      <td>...</td>\n",
              "      <td>...</td>\n",
              "    </tr>\n",
              "    <tr>\n",
              "      <th>159566</th>\n",
              "      <td>ffe987279560d7ff</td>\n",
              "      <td>\":::::And for the second time of asking, when ...</td>\n",
              "      <td>0</td>\n",
              "      <td>0</td>\n",
              "      <td>0</td>\n",
              "      <td>0</td>\n",
              "      <td>0</td>\n",
              "      <td>0</td>\n",
              "      <td>and for the second time of asking when your vi...</td>\n",
              "    </tr>\n",
              "    <tr>\n",
              "      <th>159567</th>\n",
              "      <td>ffea4adeee384e90</td>\n",
              "      <td>You should be ashamed of yourself \\n\\nThat is ...</td>\n",
              "      <td>0</td>\n",
              "      <td>0</td>\n",
              "      <td>0</td>\n",
              "      <td>0</td>\n",
              "      <td>0</td>\n",
              "      <td>0</td>\n",
              "      <td>you should be ashamed of yourself that is a ho...</td>\n",
              "    </tr>\n",
              "    <tr>\n",
              "      <th>159568</th>\n",
              "      <td>ffee36eab5c267c9</td>\n",
              "      <td>Spitzer \\n\\nUmm, theres no actual article for ...</td>\n",
              "      <td>0</td>\n",
              "      <td>0</td>\n",
              "      <td>0</td>\n",
              "      <td>0</td>\n",
              "      <td>0</td>\n",
              "      <td>0</td>\n",
              "      <td>spitzer umm theres no actual article for prost...</td>\n",
              "    </tr>\n",
              "    <tr>\n",
              "      <th>159569</th>\n",
              "      <td>fff125370e4aaaf3</td>\n",
              "      <td>And it looks like it was actually you who put ...</td>\n",
              "      <td>0</td>\n",
              "      <td>0</td>\n",
              "      <td>0</td>\n",
              "      <td>0</td>\n",
              "      <td>0</td>\n",
              "      <td>0</td>\n",
              "      <td>and it looks like it was actually you who put ...</td>\n",
              "    </tr>\n",
              "    <tr>\n",
              "      <th>159570</th>\n",
              "      <td>fff46fc426af1f9a</td>\n",
              "      <td>\"\\nAnd ... I really don't think you understand...</td>\n",
              "      <td>0</td>\n",
              "      <td>0</td>\n",
              "      <td>0</td>\n",
              "      <td>0</td>\n",
              "      <td>0</td>\n",
              "      <td>0</td>\n",
              "      <td>and i really do not think you understand i cam...</td>\n",
              "    </tr>\n",
              "  </tbody>\n",
              "</table>\n",
              "<p>159571 rows × 9 columns</p>\n",
              "</div>\n",
              "      <button class=\"colab-df-convert\" onclick=\"convertToInteractive('df-6ae852b3-c39e-4c8e-8c63-68bb7d7a25ad')\"\n",
              "              title=\"Convert this dataframe to an interactive table.\"\n",
              "              style=\"display:none;\">\n",
              "        \n",
              "  <svg xmlns=\"http://www.w3.org/2000/svg\" height=\"24px\"viewBox=\"0 0 24 24\"\n",
              "       width=\"24px\">\n",
              "    <path d=\"M0 0h24v24H0V0z\" fill=\"none\"/>\n",
              "    <path d=\"M18.56 5.44l.94 2.06.94-2.06 2.06-.94-2.06-.94-.94-2.06-.94 2.06-2.06.94zm-11 1L8.5 8.5l.94-2.06 2.06-.94-2.06-.94L8.5 2.5l-.94 2.06-2.06.94zm10 10l.94 2.06.94-2.06 2.06-.94-2.06-.94-.94-2.06-.94 2.06-2.06.94z\"/><path d=\"M17.41 7.96l-1.37-1.37c-.4-.4-.92-.59-1.43-.59-.52 0-1.04.2-1.43.59L10.3 9.45l-7.72 7.72c-.78.78-.78 2.05 0 2.83L4 21.41c.39.39.9.59 1.41.59.51 0 1.02-.2 1.41-.59l7.78-7.78 2.81-2.81c.8-.78.8-2.07 0-2.86zM5.41 20L4 18.59l7.72-7.72 1.47 1.35L5.41 20z\"/>\n",
              "  </svg>\n",
              "      </button>\n",
              "      \n",
              "  <style>\n",
              "    .colab-df-container {\n",
              "      display:flex;\n",
              "      flex-wrap:wrap;\n",
              "      gap: 12px;\n",
              "    }\n",
              "\n",
              "    .colab-df-convert {\n",
              "      background-color: #E8F0FE;\n",
              "      border: none;\n",
              "      border-radius: 50%;\n",
              "      cursor: pointer;\n",
              "      display: none;\n",
              "      fill: #1967D2;\n",
              "      height: 32px;\n",
              "      padding: 0 0 0 0;\n",
              "      width: 32px;\n",
              "    }\n",
              "\n",
              "    .colab-df-convert:hover {\n",
              "      background-color: #E2EBFA;\n",
              "      box-shadow: 0px 1px 2px rgba(60, 64, 67, 0.3), 0px 1px 3px 1px rgba(60, 64, 67, 0.15);\n",
              "      fill: #174EA6;\n",
              "    }\n",
              "\n",
              "    [theme=dark] .colab-df-convert {\n",
              "      background-color: #3B4455;\n",
              "      fill: #D2E3FC;\n",
              "    }\n",
              "\n",
              "    [theme=dark] .colab-df-convert:hover {\n",
              "      background-color: #434B5C;\n",
              "      box-shadow: 0px 1px 3px 1px rgba(0, 0, 0, 0.15);\n",
              "      filter: drop-shadow(0px 1px 2px rgba(0, 0, 0, 0.3));\n",
              "      fill: #FFFFFF;\n",
              "    }\n",
              "  </style>\n",
              "\n",
              "      <script>\n",
              "        const buttonEl =\n",
              "          document.querySelector('#df-6ae852b3-c39e-4c8e-8c63-68bb7d7a25ad button.colab-df-convert');\n",
              "        buttonEl.style.display =\n",
              "          google.colab.kernel.accessAllowed ? 'block' : 'none';\n",
              "\n",
              "        async function convertToInteractive(key) {\n",
              "          const element = document.querySelector('#df-6ae852b3-c39e-4c8e-8c63-68bb7d7a25ad');\n",
              "          const dataTable =\n",
              "            await google.colab.kernel.invokeFunction('convertToInteractive',\n",
              "                                                     [key], {});\n",
              "          if (!dataTable) return;\n",
              "\n",
              "          const docLinkHtml = 'Like what you see? Visit the ' +\n",
              "            '<a target=\"_blank\" href=https://colab.research.google.com/notebooks/data_table.ipynb>data table notebook</a>'\n",
              "            + ' to learn more about interactive tables.';\n",
              "          element.innerHTML = '';\n",
              "          dataTable['output_type'] = 'display_data';\n",
              "          await google.colab.output.renderOutput(dataTable, element);\n",
              "          const docLink = document.createElement('div');\n",
              "          docLink.innerHTML = docLinkHtml;\n",
              "          element.appendChild(docLink);\n",
              "        }\n",
              "      </script>\n",
              "    </div>\n",
              "  </div>\n",
              "  "
            ],
            "text/plain": [
              "                      id  ...                                     comment_texxxt\n",
              "0       0000997932d777bf  ...  explanation why the edits made under my userna...\n",
              "1       000103f0d9cfb60f  ...  d aww he matches this background colour i am s...\n",
              "2       000113f07ec002fd  ...  hey man i am really not trying to edit war it ...\n",
              "3       0001b41b1c6bb37e  ...  more i cannot make any real suggestions on imp...\n",
              "4       0001d958c54c6e35  ...  you sir are my hero any chance you remember wh...\n",
              "...                  ...  ...                                                ...\n",
              "159566  ffe987279560d7ff  ...  and for the second time of asking when your vi...\n",
              "159567  ffea4adeee384e90  ...  you should be ashamed of yourself that is a ho...\n",
              "159568  ffee36eab5c267c9  ...  spitzer umm theres no actual article for prost...\n",
              "159569  fff125370e4aaaf3  ...  and it looks like it was actually you who put ...\n",
              "159570  fff46fc426af1f9a  ...  and i really do not think you understand i cam...\n",
              "\n",
              "[159571 rows x 9 columns]"
            ]
          },
          "metadata": {},
          "execution_count": 96
        }
      ],
      "source": [
        "train_data"
      ],
      "id": "b812599c"
    },
    {
      "cell_type": "code",
      "execution_count": null,
      "metadata": {
        "colab": {
          "base_uri": "https://localhost:8080/",
          "height": 423
        },
        "id": "dHgdOG88XCSG",
        "outputId": "f65f42da-7f52-42a7-d24f-a20dc2b319b7"
      },
      "outputs": [
        {
          "output_type": "execute_result",
          "data": {
            "text/html": [
              "\n",
              "  <div id=\"df-af985f20-418f-4b59-81a9-891ec8946512\">\n",
              "    <div class=\"colab-df-container\">\n",
              "      <div>\n",
              "<style scoped>\n",
              "    .dataframe tbody tr th:only-of-type {\n",
              "        vertical-align: middle;\n",
              "    }\n",
              "\n",
              "    .dataframe tbody tr th {\n",
              "        vertical-align: top;\n",
              "    }\n",
              "\n",
              "    .dataframe thead th {\n",
              "        text-align: right;\n",
              "    }\n",
              "</style>\n",
              "<table border=\"1\" class=\"dataframe\">\n",
              "  <thead>\n",
              "    <tr style=\"text-align: right;\">\n",
              "      <th></th>\n",
              "      <th>id</th>\n",
              "      <th>comment_text</th>\n",
              "      <th>comment_texxxt</th>\n",
              "    </tr>\n",
              "  </thead>\n",
              "  <tbody>\n",
              "    <tr>\n",
              "      <th>0</th>\n",
              "      <td>00001cee341fdb12</td>\n",
              "      <td>Yo bitch Ja Rule is more succesful then you'll...</td>\n",
              "      <td>yo bitch ja rule is more succesful then you wi...</td>\n",
              "    </tr>\n",
              "    <tr>\n",
              "      <th>1</th>\n",
              "      <td>0000247867823ef7</td>\n",
              "      <td>== From RfC == \\n\\n The title is fine as it is...</td>\n",
              "      <td>from rfc the title is fine as it is imo</td>\n",
              "    </tr>\n",
              "    <tr>\n",
              "      <th>2</th>\n",
              "      <td>00013b17ad220c46</td>\n",
              "      <td>\" \\n\\n == Sources == \\n\\n * Zawe Ashton on Lap...</td>\n",
              "      <td>sources zawe ashton on lapland</td>\n",
              "    </tr>\n",
              "    <tr>\n",
              "      <th>3</th>\n",
              "      <td>00017563c3f7919a</td>\n",
              "      <td>:If you have a look back at the source, the in...</td>\n",
              "      <td>if you have a look back at the source the info...</td>\n",
              "    </tr>\n",
              "    <tr>\n",
              "      <th>4</th>\n",
              "      <td>00017695ad8997eb</td>\n",
              "      <td>I don't anonymously edit articles at all.</td>\n",
              "      <td>i do not anonymously edit articles at all</td>\n",
              "    </tr>\n",
              "    <tr>\n",
              "      <th>...</th>\n",
              "      <td>...</td>\n",
              "      <td>...</td>\n",
              "      <td>...</td>\n",
              "    </tr>\n",
              "    <tr>\n",
              "      <th>153159</th>\n",
              "      <td>fffcd0960ee309b5</td>\n",
              "      <td>. \\n i totally agree, this stuff is nothing bu...</td>\n",
              "      <td>i totally agree this stuff is nothing but too ...</td>\n",
              "    </tr>\n",
              "    <tr>\n",
              "      <th>153160</th>\n",
              "      <td>fffd7a9a6eb32c16</td>\n",
              "      <td>== Throw from out field to home plate. == \\n\\n...</td>\n",
              "      <td>throw from out field to home plate does it get...</td>\n",
              "    </tr>\n",
              "    <tr>\n",
              "      <th>153161</th>\n",
              "      <td>fffda9e8d6fafa9e</td>\n",
              "      <td>\" \\n\\n == Okinotorishima categories == \\n\\n I ...</td>\n",
              "      <td>okinotorishima categories i see your changes a...</td>\n",
              "    </tr>\n",
              "    <tr>\n",
              "      <th>153162</th>\n",
              "      <td>fffe8f1340a79fc2</td>\n",
              "      <td>\" \\n\\n == \"\"One of the founding nations of the...</td>\n",
              "      <td>one of the founding nations of the eu germany ...</td>\n",
              "    </tr>\n",
              "    <tr>\n",
              "      <th>153163</th>\n",
              "      <td>ffffce3fb183ee80</td>\n",
              "      <td>\" \\n :::Stop already. Your bullshit is not wel...</td>\n",
              "      <td>stop already your bullshit is not welcome here...</td>\n",
              "    </tr>\n",
              "  </tbody>\n",
              "</table>\n",
              "<p>153164 rows × 3 columns</p>\n",
              "</div>\n",
              "      <button class=\"colab-df-convert\" onclick=\"convertToInteractive('df-af985f20-418f-4b59-81a9-891ec8946512')\"\n",
              "              title=\"Convert this dataframe to an interactive table.\"\n",
              "              style=\"display:none;\">\n",
              "        \n",
              "  <svg xmlns=\"http://www.w3.org/2000/svg\" height=\"24px\"viewBox=\"0 0 24 24\"\n",
              "       width=\"24px\">\n",
              "    <path d=\"M0 0h24v24H0V0z\" fill=\"none\"/>\n",
              "    <path d=\"M18.56 5.44l.94 2.06.94-2.06 2.06-.94-2.06-.94-.94-2.06-.94 2.06-2.06.94zm-11 1L8.5 8.5l.94-2.06 2.06-.94-2.06-.94L8.5 2.5l-.94 2.06-2.06.94zm10 10l.94 2.06.94-2.06 2.06-.94-2.06-.94-.94-2.06-.94 2.06-2.06.94z\"/><path d=\"M17.41 7.96l-1.37-1.37c-.4-.4-.92-.59-1.43-.59-.52 0-1.04.2-1.43.59L10.3 9.45l-7.72 7.72c-.78.78-.78 2.05 0 2.83L4 21.41c.39.39.9.59 1.41.59.51 0 1.02-.2 1.41-.59l7.78-7.78 2.81-2.81c.8-.78.8-2.07 0-2.86zM5.41 20L4 18.59l7.72-7.72 1.47 1.35L5.41 20z\"/>\n",
              "  </svg>\n",
              "      </button>\n",
              "      \n",
              "  <style>\n",
              "    .colab-df-container {\n",
              "      display:flex;\n",
              "      flex-wrap:wrap;\n",
              "      gap: 12px;\n",
              "    }\n",
              "\n",
              "    .colab-df-convert {\n",
              "      background-color: #E8F0FE;\n",
              "      border: none;\n",
              "      border-radius: 50%;\n",
              "      cursor: pointer;\n",
              "      display: none;\n",
              "      fill: #1967D2;\n",
              "      height: 32px;\n",
              "      padding: 0 0 0 0;\n",
              "      width: 32px;\n",
              "    }\n",
              "\n",
              "    .colab-df-convert:hover {\n",
              "      background-color: #E2EBFA;\n",
              "      box-shadow: 0px 1px 2px rgba(60, 64, 67, 0.3), 0px 1px 3px 1px rgba(60, 64, 67, 0.15);\n",
              "      fill: #174EA6;\n",
              "    }\n",
              "\n",
              "    [theme=dark] .colab-df-convert {\n",
              "      background-color: #3B4455;\n",
              "      fill: #D2E3FC;\n",
              "    }\n",
              "\n",
              "    [theme=dark] .colab-df-convert:hover {\n",
              "      background-color: #434B5C;\n",
              "      box-shadow: 0px 1px 3px 1px rgba(0, 0, 0, 0.15);\n",
              "      filter: drop-shadow(0px 1px 2px rgba(0, 0, 0, 0.3));\n",
              "      fill: #FFFFFF;\n",
              "    }\n",
              "  </style>\n",
              "\n",
              "      <script>\n",
              "        const buttonEl =\n",
              "          document.querySelector('#df-af985f20-418f-4b59-81a9-891ec8946512 button.colab-df-convert');\n",
              "        buttonEl.style.display =\n",
              "          google.colab.kernel.accessAllowed ? 'block' : 'none';\n",
              "\n",
              "        async function convertToInteractive(key) {\n",
              "          const element = document.querySelector('#df-af985f20-418f-4b59-81a9-891ec8946512');\n",
              "          const dataTable =\n",
              "            await google.colab.kernel.invokeFunction('convertToInteractive',\n",
              "                                                     [key], {});\n",
              "          if (!dataTable) return;\n",
              "\n",
              "          const docLinkHtml = 'Like what you see? Visit the ' +\n",
              "            '<a target=\"_blank\" href=https://colab.research.google.com/notebooks/data_table.ipynb>data table notebook</a>'\n",
              "            + ' to learn more about interactive tables.';\n",
              "          element.innerHTML = '';\n",
              "          dataTable['output_type'] = 'display_data';\n",
              "          await google.colab.output.renderOutput(dataTable, element);\n",
              "          const docLink = document.createElement('div');\n",
              "          docLink.innerHTML = docLinkHtml;\n",
              "          element.appendChild(docLink);\n",
              "        }\n",
              "      </script>\n",
              "    </div>\n",
              "  </div>\n",
              "  "
            ],
            "text/plain": [
              "                      id  ...                                     comment_texxxt\n",
              "0       00001cee341fdb12  ...  yo bitch ja rule is more succesful then you wi...\n",
              "1       0000247867823ef7  ...            from rfc the title is fine as it is imo\n",
              "2       00013b17ad220c46  ...                     sources zawe ashton on lapland\n",
              "3       00017563c3f7919a  ...  if you have a look back at the source the info...\n",
              "4       00017695ad8997eb  ...          i do not anonymously edit articles at all\n",
              "...                  ...  ...                                                ...\n",
              "153159  fffcd0960ee309b5  ...  i totally agree this stuff is nothing but too ...\n",
              "153160  fffd7a9a6eb32c16  ...  throw from out field to home plate does it get...\n",
              "153161  fffda9e8d6fafa9e  ...  okinotorishima categories i see your changes a...\n",
              "153162  fffe8f1340a79fc2  ...  one of the founding nations of the eu germany ...\n",
              "153163  ffffce3fb183ee80  ...  stop already your bullshit is not welcome here...\n",
              "\n",
              "[153164 rows x 3 columns]"
            ]
          },
          "metadata": {},
          "execution_count": 97
        }
      ],
      "source": [
        "test_data"
      ],
      "id": "dHgdOG88XCSG"
    },
    {
      "cell_type": "code",
      "execution_count": null,
      "metadata": {
        "id": "c7ebae5e"
      },
      "outputs": [],
      "source": [
        "from sklearn.feature_extraction.text import CountVectorizer\n",
        "from keras.preprocessing.text import Tokenizer\n",
        "from keras.preprocessing.sequence import pad_sequences\n",
        "from keras.models import Sequential\n",
        "from keras.layers import Dense, Embedding, LSTM, SpatialDropout1D\n",
        "from sklearn.model_selection import train_test_split\n",
        "from keras.utils.np_utils import to_categorical"
      ],
      "id": "c7ebae5e"
    },
    {
      "cell_type": "code",
      "execution_count": null,
      "metadata": {
        "id": "ad0242ca"
      },
      "outputs": [],
      "source": [
        "# train_values_x = train_data['comment_texxt'].values\n",
        "train_values_x = train_data['comment_texxxt'].values\n",
        "train_values_y = train_data[[\"toxic\",\"severe_toxic\",\"obscene\",\"threat\",\"insult\",\"identity_hate\"]].values"
      ],
      "id": "ad0242ca"
    },
    {
      "cell_type": "code",
      "execution_count": null,
      "metadata": {
        "id": "ca9d0e91"
      },
      "outputs": [],
      "source": [
        "# Split training, validation set\n",
        "train_x, val_x, train_y, val_y = train_test_split(train_values_x, train_values_y, test_size=0.2, random_state=30)"
      ],
      "id": "ca9d0e91"
    },
    {
      "cell_type": "code",
      "execution_count": null,
      "metadata": {
        "colab": {
          "base_uri": "https://localhost:8080/"
        },
        "id": "42b018bf",
        "outputId": "a201f7eb-3779-4773-9c3c-9de2be4f9b09"
      },
      "outputs": [
        {
          "output_type": "stream",
          "name": "stdout",
          "text": [
            "(127656,)\n",
            "(127656, 6)\n",
            "(31915,)\n",
            "(31915, 6)\n"
          ]
        }
      ],
      "source": [
        "print(train_x.shape)\n",
        "print(train_y.shape)\n",
        "print(val_x.shape)\n",
        "print(val_y.shape)"
      ],
      "id": "42b018bf"
    },
    {
      "cell_type": "code",
      "execution_count": null,
      "metadata": {
        "id": "899411b7"
      },
      "outputs": [],
      "source": [
        "# Tokenize training data\n",
        "vocab_len = 100000\n",
        "tokenizer = Tokenizer(num_words = vocab_len, oov_token='<oov>')\n",
        "# tokenizer.fit_on_texts(train_data['comment_texxt'])\n",
        "tokenizer.fit_on_texts(train_data['comment_texxxt'])"
      ],
      "id": "899411b7"
    },
    {
      "cell_type": "code",
      "execution_count": null,
      "metadata": {
        "id": "b15aa307"
      },
      "outputs": [],
      "source": [
        "# Encode training data sentences into sequences\n",
        "train_seq = tokenizer.texts_to_sequences(train_x)"
      ],
      "id": "b15aa307"
    },
    {
      "cell_type": "code",
      "execution_count": null,
      "metadata": {
        "colab": {
          "base_uri": "https://localhost:8080/"
        },
        "id": "c4b0cd08",
        "outputId": "36f8bf60-3765-436e-9bf5-64c2f6fa298f"
      },
      "outputs": [
        {
          "output_type": "stream",
          "name": "stdout",
          "text": [
            "1403\n"
          ]
        }
      ],
      "source": [
        "# Get max training sequence length\n",
        "maxlen = max([len(x) for x in train_seq])\n",
        "print(maxlen)"
      ],
      "id": "c4b0cd08"
    },
    {
      "cell_type": "code",
      "execution_count": null,
      "metadata": {
        "id": "5ec51db1"
      },
      "outputs": [],
      "source": [
        "# Pad the training sequences\n",
        "train_pad = pad_sequences(train_seq, maxlen = maxlen,\n",
        "                          padding = 'pre',\n",
        "                          truncating='pre')"
      ],
      "id": "5ec51db1"
    },
    {
      "cell_type": "code",
      "execution_count": null,
      "metadata": {
        "colab": {
          "base_uri": "https://localhost:8080/"
        },
        "id": "595f365b",
        "outputId": "363c4809-9335-4ecd-e192-a8160dfdd2c4"
      },
      "outputs": [
        {
          "output_type": "stream",
          "name": "stdout",
          "text": [
            "\n",
            "Padded training shape: (127656, 1403)\n",
            "Training sequences data type: <class 'list'>\n",
            "Padded Training sequences data type: <class 'numpy.ndarray'>\n"
          ]
        }
      ],
      "source": [
        "# print(\"\\nTraining sequences:\\n\", train_seq)\n",
        "# print(\"\\nPadded training sequences:\\n\", train_pad)\n",
        "print(\"\\nPadded training shape:\", train_pad.shape)\n",
        "print(\"Training sequences data type:\", type(train_seq))\n",
        "print(\"Padded Training sequences data type:\", type(train_pad))"
      ],
      "id": "595f365b"
    },
    {
      "cell_type": "code",
      "execution_count": null,
      "metadata": {
        "id": "e4cf2eb8"
      },
      "outputs": [],
      "source": [
        "val_seq = tokenizer.texts_to_sequences(val_x)\n",
        "val_pad = pad_sequences(val_seq, maxlen = maxlen,\n",
        "                        padding = 'pre',\n",
        "                        truncating='pre')"
      ],
      "id": "e4cf2eb8"
    },
    {
      "cell_type": "code",
      "execution_count": null,
      "metadata": {
        "colab": {
          "base_uri": "https://localhost:8080/"
        },
        "id": "78e7230c",
        "outputId": "7a9d599d-7e5c-421f-bd8e-7558d3363f65"
      },
      "outputs": [
        {
          "output_type": "execute_result",
          "data": {
            "text/plain": [
              "190214"
            ]
          },
          "metadata": {},
          "execution_count": 108
        }
      ],
      "source": [
        "vocab_size = len(tokenizer.word_index) + 1\n",
        "vocab_size"
      ],
      "id": "78e7230c"
    },
    {
      "cell_type": "code",
      "execution_count": null,
      "metadata": {
        "id": "DgOInLsc8iRd"
      },
      "outputs": [],
      "source": [
        "embed_dim = 300"
      ],
      "id": "DgOInLsc8iRd"
    },
    {
      "cell_type": "code",
      "source": [
        "!unzip drive/MyDrive/crawl-300d-2M.vec.zip"
      ],
      "metadata": {
        "colab": {
          "base_uri": "https://localhost:8080/"
        },
        "id": "-AUik-66AH_3",
        "outputId": "1e44e6d7-10ae-432c-e9c9-f69399121161"
      },
      "id": "-AUik-66AH_3",
      "execution_count": null,
      "outputs": [
        {
          "output_type": "stream",
          "name": "stdout",
          "text": [
            "Archive:  drive/MyDrive/crawl-300d-2M.vec.zip\n",
            "  inflating: crawl-300d-2M.vec       \n"
          ]
        }
      ]
    },
    {
      "cell_type": "code",
      "source": [
        "import io\n",
        "from tqdm.auto import tqdm\n",
        "\n",
        "print('loading word embeddings...')\n",
        "embeddings_index = {}\n",
        "f = io.open('crawl-300d-2M.vec', encoding='utf-8')\n",
        "for line in tqdm(f):\n",
        "    values = line.rstrip().rsplit(' ')\n",
        "    word = values[0]\n",
        "    coefs = np.asarray(values[1:], dtype='float32')\n",
        "    embeddings_index[word] = coefs\n",
        "f.close()\n",
        "print('found %s word vectors' % len(embeddings_index))"
      ],
      "metadata": {
        "colab": {
          "base_uri": "https://localhost:8080/",
          "height": 84,
          "referenced_widgets": [
            "85c12b9a6bdd41829899f91e05069cdc",
            "3796170008e24d5891684ccbd23827a8",
            "448f4bd8756c497885b0cfd58b187f9b",
            "718b75d4942e43889b89f3d45ce6bc9e",
            "85295bb8e66443f2a32c0ea622af6320",
            "303495155f8d41c4b572eb24ae10351e",
            "37257c608a424d6d8096a7dd0229af52",
            "aee4d3229b984fa8be8069cc092783e9",
            "da1e147fd6dc447c85daabda97fc1e7e",
            "e8d40fd4c1b3441c92cfb7f56006caff",
            "bdf90828aaa14447a4d341d73533b8b1"
          ]
        },
        "id": "idvSV39IACBH",
        "outputId": "7fd159f0-0862-4692-b323-589157171874"
      },
      "id": "idvSV39IACBH",
      "execution_count": null,
      "outputs": [
        {
          "output_type": "stream",
          "name": "stdout",
          "text": [
            "loading word embeddings...\n"
          ]
        },
        {
          "output_type": "display_data",
          "data": {
            "application/vnd.jupyter.widget-view+json": {
              "model_id": "85c12b9a6bdd41829899f91e05069cdc",
              "version_minor": 0,
              "version_major": 2
            },
            "text/plain": [
              "0it [00:00, ?it/s]"
            ]
          },
          "metadata": {}
        },
        {
          "output_type": "stream",
          "name": "stdout",
          "text": [
            "found 1999996 word vectors\n"
          ]
        }
      ]
    },
    {
      "cell_type": "code",
      "source": [
        "# Prepare embedding matrix\n",
        "print('preparing embedding matrix...')\n",
        "words_not_found = []\n",
        "nb_words = vocab_size\n",
        "fasttext_matrix = np.zeros((nb_words, 300))\n",
        "\n",
        "for word, i in tokenizer.word_index.items():\n",
        "    if i >= nb_words:\n",
        "        continue\n",
        "    embedding_vector = embeddings_index.get(word)\n",
        "    if (embedding_vector is not None) and len(embedding_vector) > 0:\n",
        "        # words not found in embedding index will be all-zeros.\n",
        "        fasttext_matrix[i] = embedding_vector\n",
        "    else:\n",
        "        words_not_found.append(word)\n",
        "        \n",
        "print('number of null word embeddings: %d' % np.sum(np.sum(fasttext_matrix, axis=1) == 0))"
      ],
      "metadata": {
        "colab": {
          "base_uri": "https://localhost:8080/"
        },
        "id": "R7EG69YQACrX",
        "outputId": "e19244dd-48f8-4e04-c695-d346ff6e7d06"
      },
      "id": "R7EG69YQACrX",
      "execution_count": null,
      "outputs": [
        {
          "output_type": "stream",
          "name": "stdout",
          "text": [
            "preparing embedding matrix...\n",
            "number of null word embeddings: 87561\n"
          ]
        }
      ]
    },
    {
      "cell_type": "code",
      "execution_count": null,
      "metadata": {
        "id": "iiNrQ_qR8wjS"
      },
      "outputs": [],
      "source": [
        "# !wget --no-check-certificate \\http://nlp.stanford.edu/data/glove.6B.zip \\ -O /tmp/glove.6B.zip"
      ],
      "id": "iiNrQ_qR8wjS"
    },
    {
      "cell_type": "code",
      "execution_count": null,
      "metadata": {
        "id": "o2YaWOM-Cw4e"
      },
      "outputs": [],
      "source": [
        "# !unzip drive/MyDrive/glove.6B.zip"
      ],
      "id": "o2YaWOM-Cw4e"
    },
    {
      "cell_type": "code",
      "execution_count": null,
      "metadata": {
        "colab": {
          "base_uri": "https://localhost:8080/"
        },
        "id": "r1aIRvAlDCSY",
        "outputId": "d4bee53a-e65d-423b-8c47-0aff4f5e5db9"
      },
      "outputs": [
        {
          "output_type": "stream",
          "name": "stdout",
          "text": [
            "Found 400000 word vectors.\n"
          ]
        }
      ],
      "source": [
        "import numpy as np\n",
        "embeddings_index = {}\n",
        "f = open('glove.6B.300d.txt')\n",
        "for line in f:\n",
        "    values = line.split()\n",
        "    word = values[0]\n",
        "    coefs = np.asarray(values[1:], dtype='float32')\n",
        "    embeddings_index[word] = coefs\n",
        "f.close()\n",
        "\n",
        "print('Found %s word vectors.' % len(embeddings_index))"
      ],
      "id": "r1aIRvAlDCSY"
    },
    {
      "cell_type": "code",
      "execution_count": null,
      "metadata": {
        "id": "MipN255pFyYZ"
      },
      "outputs": [],
      "source": [
        "word_index = tokenizer.word_index"
      ],
      "id": "MipN255pFyYZ"
    },
    {
      "cell_type": "code",
      "execution_count": null,
      "metadata": {
        "id": "hnLF4aGyDpa2"
      },
      "outputs": [],
      "source": [
        "glove_matrix = np.zeros((len(word_index) + 1, embed_dim))\n",
        "for word, i in word_index.items():\n",
        "    embedding_vector = embeddings_index.get(word)\n",
        "    if embedding_vector is not None:\n",
        "        # words not found in embedding index will be all-zeros.\n",
        "        glove_matrix[i] = embedding_vector"
      ],
      "id": "hnLF4aGyDpa2"
    },
    {
      "cell_type": "code",
      "execution_count": null,
      "metadata": {
        "id": "9LvuYHyPu2uJ"
      },
      "outputs": [],
      "source": [
        "def plot_learning_curve(history):\n",
        "  plt.plot(history.history['loss'], label='training')\n",
        "  plt.plot(history.history['val_loss'], label='validation')\n",
        "  plt.legend()\n",
        "  plt.show()"
      ],
      "id": "9LvuYHyPu2uJ"
    },
    {
      "cell_type": "code",
      "execution_count": null,
      "metadata": {
        "id": "StGIHX7TXynD"
      },
      "outputs": [],
      "source": [
        "def CNN_model(embed_dim, kernel_num=32, kernel_sizes=[1], embed_weights=None, drop_out_rate=0.0):\n",
        "  # Input\n",
        "  input = tf.keras.Input(shape=(maxlen,))\n",
        " \n",
        "  # Embedding layers\n",
        "  if embed_weights is not None:\n",
        "    embedding = tf.keras.layers.Embedding(\n",
        "          input_dim=vocab_size,\n",
        "          output_dim=embed_dim, \n",
        "          input_length=maxlen,\n",
        "          # weights=[embed_weights], \n",
        "          embeddings_initializer=tf.keras.initializers.Constant(embed_weights),\n",
        "          trainable=False,\n",
        "          name='pretrained_embedding'\n",
        "    )\n",
        "  else:\n",
        "    embedding = tf.keras.layers.Embedding(\n",
        "          input_dim=vocab_size,\n",
        "          output_dim=embed_dim, \n",
        "          input_length=maxlen, \n",
        "          trainable=True,\n",
        "          name='trainable_embedding'\n",
        "    )\n",
        "\n",
        "  embed_out = tf.keras.layers.Reshape((maxlen, embed_dim, 1))(embedding(input))\n",
        "\n",
        "  # Convolutional layers (seperate convs for each word groups)\n",
        "  conv_list = [tf.keras.layers.Conv2D(\n",
        "      filters=kernel_num, \n",
        "      kernel_size=(k, embed_dim),\n",
        "      activation='relu',\n",
        "      padding='valid',\n",
        "      name=f'conv_group_{k}_word') for k in kernel_sizes]\n",
        "    \n",
        "  conv_outs = [conv(embed_out) for conv in conv_list]\n",
        " \n",
        "  # Max pooling layer (one for each convolutional layer)\n",
        "  max_pool_list = [tf.keras.layers.MaxPool1D(\n",
        "      pool_size = maxlen,\n",
        "      padding='same',\n",
        "      name=f'max_pool_group_{k}_word') for k in kernel_sizes]\n",
        "\n",
        "  max_pool_outs = []\n",
        "\n",
        "  for i in range(len(kernel_sizes)):\n",
        "    max_pool_outs.append(max_pool_list[i](tf.squeeze(conv_outs[i], axis=2)))\n",
        " \n",
        "  # Concatenate layer\n",
        "  concate = tf.keras.layers.Concatenate(axis=1, name='concate')(max_pool_outs)\n",
        "\n",
        "  # Flatten layer\n",
        "  flat_out = tf.keras.layers.Flatten(name='flatten')(concate)\n",
        "\n",
        "  # Dropout\n",
        "  drop_out = tf.keras.layers.Dropout(drop_out_rate, name='dropout')(flat_out)\n",
        " \n",
        "  # Output\n",
        "  output = tf.keras.layers.Dense(6, name='output')(drop_out)\n",
        " \n",
        "  # CNN model\n",
        "  return tf.keras.Model(inputs=[input], outputs=[output], name='cnn')"
      ],
      "id": "StGIHX7TXynD"
    },
    {
      "cell_type": "code",
      "execution_count": null,
      "metadata": {
        "colab": {
          "base_uri": "https://localhost:8080/",
          "height": 680
        },
        "id": "w1ZZ79mwbgYz",
        "outputId": "62919c4a-1ddd-4f72-d606-fd97aa30381e"
      },
      "outputs": [
        {
          "output_type": "execute_result",
          "data": {
            "image/png": "[encoded data removed]",
            "text/plain": [
              "<IPython.core.display.Image object>"
            ]
          },
          "metadata": {},
          "execution_count": 141
        }
      ],
      "source": [
        "cnn = CNN_model(embed_dim=embed_dim, embed_weights=glove_matrix, kernel_sizes=[3, 4, 5], drop_out_rate=0.2)\n",
        "tf.keras.utils.plot_model(cnn, show_shapes=True)"
      ],
      "id": "w1ZZ79mwbgYz"
    },
    {
      "cell_type": "code",
      "execution_count": null,
      "metadata": {
        "colab": {
          "base_uri": "https://localhost:8080/"
        },
        "id": "YJ4m296sbjbb",
        "outputId": "65477fb5-f19a-40f6-ee33-5c5e2edeb4e6"
      },
      "outputs": [
        {
          "output_type": "stream",
          "name": "stdout",
          "text": [
            "Model: \"cnn\"\n",
            "__________________________________________________________________________________________________\n",
            " Layer (type)                   Output Shape         Param #     Connected to                     \n",
            "==================================================================================================\n",
            " input_7 (InputLayer)           [(None, 1403)]       0           []                               \n",
            "                                                                                                  \n",
            " pretrained_embedding (Embeddin  (None, 1403, 300)   57064200    ['input_7[0][0]']                \n",
            " g)                                                                                               \n",
            "                                                                                                  \n",
            " reshape_6 (Reshape)            (None, 1403, 300, 1  0           ['pretrained_embedding[0][0]']   \n",
            "                                )                                                                 \n",
            "                                                                                                  \n",
            " conv_group_3_word (Conv2D)     (None, 1401, 1, 32)  28832       ['reshape_6[0][0]']              \n",
            "                                                                                                  \n",
            " conv_group_4_word (Conv2D)     (None, 1400, 1, 32)  38432       ['reshape_6[0][0]']              \n",
            "                                                                                                  \n",
            " conv_group_5_word (Conv2D)     (None, 1399, 1, 32)  48032       ['reshape_6[0][0]']              \n",
            "                                                                                                  \n",
            " tf.compat.v1.squeeze_18 (TFOpL  (None, 1401, 32)    0           ['conv_group_3_word[0][0]']      \n",
            " ambda)                                                                                           \n",
            "                                                                                                  \n",
            " tf.compat.v1.squeeze_19 (TFOpL  (None, 1400, 32)    0           ['conv_group_4_word[0][0]']      \n",
            " ambda)                                                                                           \n",
            "                                                                                                  \n",
            " tf.compat.v1.squeeze_20 (TFOpL  (None, 1399, 32)    0           ['conv_group_5_word[0][0]']      \n",
            " ambda)                                                                                           \n",
            "                                                                                                  \n",
            " max_pool_group_3_word (MaxPool  (None, 1, 32)       0           ['tf.compat.v1.squeeze_18[0][0]']\n",
            " ing1D)                                                                                           \n",
            "                                                                                                  \n",
            " max_pool_group_4_word (MaxPool  (None, 1, 32)       0           ['tf.compat.v1.squeeze_19[0][0]']\n",
            " ing1D)                                                                                           \n",
            "                                                                                                  \n",
            " max_pool_group_5_word (MaxPool  (None, 1, 32)       0           ['tf.compat.v1.squeeze_20[0][0]']\n",
            " ing1D)                                                                                           \n",
            "                                                                                                  \n",
            " concate (Concatenate)          (None, 3, 32)        0           ['max_pool_group_3_word[0][0]',  \n",
            "                                                                  'max_pool_group_4_word[0][0]',  \n",
            "                                                                  'max_pool_group_5_word[0][0]']  \n",
            "                                                                                                  \n",
            " flatten (Flatten)              (None, 96)           0           ['concate[0][0]']                \n",
            "                                                                                                  \n",
            " dropout (Dropout)              (None, 96)           0           ['flatten[0][0]']                \n",
            "                                                                                                  \n",
            " output (Dense)                 (None, 6)            582         ['dropout[0][0]']                \n",
            "                                                                                                  \n",
            "==================================================================================================\n",
            "Total params: 57,180,078\n",
            "Trainable params: 115,878\n",
            "Non-trainable params: 57,064,200\n",
            "__________________________________________________________________________________________________\n"
          ]
        }
      ],
      "source": [
        "cnn.summary()"
      ],
      "id": "YJ4m296sbjbb"
    },
    {
      "cell_type": "code",
      "execution_count": null,
      "metadata": {
        "colab": {
          "base_uri": "https://localhost:8080/"
        },
        "id": "Iq7RweY3Wqd6",
        "outputId": "04f649ca-1ec1-4f74-f1d6-ba893fcd872c"
      },
      "outputs": [
        {
          "output_type": "stream",
          "name": "stdout",
          "text": [
            "Epoch 1/5\n",
            "3990/3990 [==============================] - 359s 90ms/step - loss: 0.0657 - val_loss: 0.0542\n",
            "Epoch 2/5\n",
            "3990/3990 [==============================] - 357s 89ms/step - loss: 0.0511 - val_loss: 0.0490\n",
            "Epoch 3/5\n",
            "3990/3990 [==============================] - 358s 90ms/step - loss: 0.0473 - val_loss: 0.0489\n",
            "Epoch 4/5\n",
            "3990/3990 [==============================] - 358s 90ms/step - loss: 0.0441 - val_loss: 0.0497\n",
            "Epoch 00004: early stopping\n"
          ]
        }
      ],
      "source": [
        "early_stopping = tf.keras.callbacks.EarlyStopping(\n",
        "    monitor='val_loss', \n",
        "    patience=1,\n",
        "    mode='min',\n",
        "    verbose=1\n",
        ")\n",
        "\n",
        "cnn.compile(\n",
        "    loss = tf.keras.losses.BinaryCrossentropy(from_logits=True), \n",
        "    optimizer = tf.keras.optimizers.Adam(learning_rate=0.0005)\n",
        ")\n",
        "\n",
        "history_cnn = cnn.fit(\n",
        "    train_pad,\n",
        "    train_y,\n",
        "    epochs = 5,\n",
        "    validation_data=(val_pad, val_y), \n",
        "    batch_size = 32,\n",
        "    callbacks=[early_stopping] \n",
        ")"
      ],
      "id": "Iq7RweY3Wqd6"
    },
    {
      "cell_type": "code",
      "execution_count": null,
      "metadata": {
        "colab": {
          "base_uri": "https://localhost:8080/",
          "height": 265
        },
        "id": "9BxTrtVHt3H7",
        "outputId": "5ce744c7-dc72-4cb8-a635-9661f2f69114"
      },
      "outputs": [
        {
          "output_type": "display_data",
          "data": {
            "image/png": "[encoded data removed]",
            "text/plain": [
              "<Figure size 432x288 with 1 Axes>"
            ]
          },
          "metadata": {
            "needs_background": "light"
          }
        }
      ],
      "source": [
        "plot_learning_curve(history_cnn)"
      ],
      "id": "9BxTrtVHt3H7"
    },
    {
      "cell_type": "code",
      "execution_count": null,
      "metadata": {
        "id": "NGl-UfrDS-uE"
      },
      "outputs": [],
      "source": [
        "test_seq = tokenizer.texts_to_sequences(test_data.comment_texxxt)\n",
        "test_pad = pad_sequences(test_seq, maxlen = maxlen,\n",
        "                                padding = 'pre',\n",
        "                                truncating='pre')"
      ],
      "id": "NGl-UfrDS-uE"
    },
    {
      "cell_type": "code",
      "execution_count": null,
      "metadata": {
        "id": "fLjcTVN3efDB"
      },
      "outputs": [],
      "source": [
        "def prepare_submit_file(model, test_pad, batch_size=200):\n",
        "  predicted = tf.math.sigmoid(model.predict(test_pad, batch_size = batch_size))\n",
        "  predict = np.hstack((test_data.id[:, np.newaxis], predicted))\n",
        "\n",
        "  subm = pd.DataFrame(predict, columns = ['id', 'toxic', 'severe_toxic', 'obscene', 'threat', 'insult', 'identity_hate'])\n",
        "  subm.to_csv('subm.csv', index = False)\n",
        "\n",
        "  print(subm)"
      ],
      "id": "fLjcTVN3efDB"
    },
    {
      "cell_type": "code",
      "execution_count": null,
      "metadata": {
        "colab": {
          "base_uri": "https://localhost:8080/"
        },
        "id": "M75XXyGf568F",
        "outputId": "5f23935d-b6b2-46d3-d50d-41182a4c760c"
      },
      "outputs": [
        {
          "output_type": "stream",
          "name": "stderr",
          "text": [
            "/usr/local/lib/python3.7/dist-packages/ipykernel_launcher.py:3: FutureWarning: Support for multi-dimensional indexing (e.g. `obj[:, None]`) is deprecated and will be removed in a future version.  Convert to a numpy array before indexing instead.\n",
            "  This is separate from the ipykernel package so we can avoid doing imports until\n"
          ]
        },
        {
          "output_type": "stream",
          "name": "stdout",
          "text": [
            "                      id        toxic  ...       insult identity_hate\n",
            "0       00001cee341fdb12     0.999838  ...     0.988103      0.752976\n",
            "1       0000247867823ef7   0.00424482  ...   0.00196032   0.000578403\n",
            "2       00013b17ad220c46    0.0123622  ...   0.00803353    0.00338043\n",
            "3       00017563c3f7919a   0.00273968  ...   0.00140995   0.000250498\n",
            "4       00017695ad8997eb    0.0348347  ...    0.0104682    0.00171533\n",
            "...                  ...          ...  ...          ...           ...\n",
            "153159  fffcd0960ee309b5     0.508009  ...    0.0204929    0.00339026\n",
            "153160  fffd7a9a6eb32c16    0.0413673  ...    0.0091051     0.0015539\n",
            "153161  fffda9e8d6fafa9e  0.000264021  ...  0.000198655   8.71405e-05\n",
            "153162  fffe8f1340a79fc2   0.00460601  ...   0.00157035    0.00848836\n",
            "153163  ffffce3fb183ee80      0.98798  ...     0.342285     0.0337524\n",
            "\n",
            "[153164 rows x 7 columns]\n"
          ]
        }
      ],
      "source": [
        "prepare_submit_file(cnn, test_pad, batch_size=200)"
      ],
      "id": "M75XXyGf568F"
    },
    {
      "cell_type": "code",
      "source": [
        "# Hyperparameter tuning\n",
        "pip install keras-tuner --upgrade\n",
        "import kerastuner as kt"
      ],
      "metadata": {
        "id": "jZDvyiCjaoQ-"
      },
      "id": "jZDvyiCjaoQ-",
      "execution_count": null,
      "outputs": []
    },
    {
      "cell_type": "code",
      "source": [
        "def build_cnn_hyper_model(hp):\n",
        "  # Input\n",
        "  input = tf.keras.Input(shape=(maxlen,), name='input')\n",
        " \n",
        "  # Embedding layers\n",
        "  embedding = tf.keras.layers.Embedding(\n",
        "          input_dim=vocab_size,\n",
        "          output_dim=embed_dim, \n",
        "          input_length=maxlen,\n",
        "          weights=[fasttext_matrix], \n",
        "          trainable=False,\n",
        "          name='pretrained_embedding'\n",
        "  )\n",
        "\n",
        "  embed_out = tf.keras.layers.Reshape((maxlen, embed_dim, 1), name='reshape')(embedding(input))\n",
        "\n",
        "  # Convolution + Max pooling\n",
        "  conv_list = []\n",
        "  max_pool_list = []\n",
        "  max_pool_outs = []\n",
        "  # min_height = hp.Int('min_kernel_height', 2, 3)\n",
        "  kernel_num = hp.Int('kernel_num', 32, 128, step=32)\n",
        "  conv_num = hp.Int('conv_num', 1, 3)\n",
        "\n",
        "  for i in range(conv_num):  \n",
        "    kernel_height = 3 + i\n",
        "\n",
        "    # Convolutional layers (seperate convs for each word groups)\n",
        "    conv = tf.keras.layers.Conv2D(\n",
        "        filters=kernel_num,\n",
        "        kernel_size=(kernel_height, embed_dim),\n",
        "        activation='relu',\n",
        "        padding='valid',\n",
        "        name=f'conv_group_{kernel_height}'\n",
        "    )\n",
        "\n",
        "    conv_list.append(conv)\n",
        "\n",
        "    # Max pooling layers (one for each conv layer)\n",
        "    max_pool = tf.keras.layers.MaxPool1D(\n",
        "        pool_size = maxlen,\n",
        "        padding='same',\n",
        "        name=f'max_pooling_group_{kernel_height}')\n",
        "    \n",
        "    max_pool_list.append(max_pool)\n",
        "\n",
        "  conv_outs = [conv(embed_out) for conv in conv_list]\n",
        "\n",
        "  for i in range(len(conv_outs)):\n",
        "     max_pool_outs.append(max_pool_list[i](tf.squeeze(conv_outs[i], axis=2)))\n",
        " \n",
        "  # Concatenate layer\n",
        "  concate = tf.keras.layers.Concatenate(axis=1, name='concate')(max_pool_outs)\n",
        "\n",
        "  # Flatten layer\n",
        "  flat_out = tf.keras.layers.Flatten(name='flatten')(concate)\n",
        "\n",
        "  # Dropout\n",
        "  drop_out = tf.keras.layers.Dropout(hp.Float('dropout', 0.0, 0.5, step=0.1), name='dropout')(flat_out)\n",
        " \n",
        "  # Output\n",
        "  output = tf.keras.layers.Dense(6, name='output')(drop_out)\n",
        " \n",
        "  # CNN model\n",
        "  cnn_model = tf.keras.Model(inputs=[input], outputs=[output], name='cnn')\n",
        "\n",
        "  # Model compling\n",
        "  cnn_model.compile(\n",
        "      loss = tf.keras.losses.BinaryCrossentropy(from_logits=True), \n",
        "      optimizer = tf.keras.optimizers.Adam(learning_rate=0.0005)\n",
        "  )\n",
        "\n",
        "  return cnn_model"
      ],
      "metadata": {
        "id": "IZn3nqWua1Se"
      },
      "id": "IZn3nqWua1Se",
      "execution_count": null,
      "outputs": []
    },
    {
      "cell_type": "code",
      "source": [
        "tuner = kt.RandomSearch(\n",
        "    hypermodel=build_cnn_hyper_model,\n",
        "    objective='val_loss',\n",
        "    max_trials=50,\n",
        "    directory='tuning',\n",
        "    overwrite=False,\n",
        "    project_name='cnn_fasttext'\n",
        ")"
      ],
      "metadata": {
        "id": "7mR2FIYZbCe3"
      },
      "id": "7mR2FIYZbCe3",
      "execution_count": null,
      "outputs": []
    },
    {
      "cell_type": "code",
      "source": [
        "tuner.search_space_summary()"
      ],
      "metadata": {
        "id": "Eb2ZyxHDbErG"
      },
      "id": "Eb2ZyxHDbErG",
      "execution_count": null,
      "outputs": []
    },
    {
      "cell_type": "code",
      "source": [
        "early_stopping = tf.keras.callbacks.EarlyStopping(\n",
        "    monitor='val_loss', \n",
        "    patience=1,\n",
        "    mode='min',\n",
        "    verbose=1\n",
        ")\n",
        "\n",
        "tuner.search(\n",
        "    train_pad, \n",
        "    train_y, \n",
        "    epochs=5, \n",
        "    validation_data=(val_pad, val_y),\n",
        "    callbacks=[early_stopping])"
      ],
      "metadata": {
        "id": "KlEIBfE_bIAn"
      },
      "id": "KlEIBfE_bIAn",
      "execution_count": null,
      "outputs": []
    },
    {
      "cell_type": "code",
      "source": [
        "tuner.results_summary()"
      ],
      "metadata": {
        "id": "DQsXu2sobJCG"
      },
      "id": "DQsXu2sobJCG",
      "execution_count": null,
      "outputs": []
    },
    {
      "cell_type": "code",
      "source": [
        "best_model = tuner.get_best_models()[0]"
      ],
      "metadata": {
        "id": "bfGs9BzGbTWm"
      },
      "id": "bfGs9BzGbTWm",
      "execution_count": null,
      "outputs": []
    },
    {
      "cell_type": "code",
      "source": [
        "best_model.summary()"
      ],
      "metadata": {
        "id": "CdZBHzzNbVH9"
      },
      "id": "CdZBHzzNbVH9",
      "execution_count": null,
      "outputs": []
    }
  ],
  "metadata": {
    "accelerator": "GPU",
    "colab": {
      "collapsed_sections": [],
      "name": "CNN_Toxic_Comment_Classification.ipynb",
      "provenance": []
    },
    "kernelspec": {
      "display_name": "TF2",
      "language": "python",
      "name": "tf2"
    },
    "language_info": {
      "codemirror_mode": {
        "name": "ipython",
        "version": 3
      },
      "file_extension": ".py",
      "mimetype": "text/x-python",
      "name": "python",
      "nbconvert_exporter": "python",
      "pygments_lexer": "ipython3",
      "version": "3.7.10"
    },
    "widgets": {
      "application/vnd.jupyter.widget-state+json": {
        "85c12b9a6bdd41829899f91e05069cdc": {
          "model_module": "@jupyter-widgets/controls",
          "model_name": "HBoxModel",
          "model_module_version": "1.5.0",
          "state": {
            "_view_name": "HBoxView",
            "_dom_classes": [],
            "_model_name": "HBoxModel",
            "_view_module": "@jupyter-widgets/controls",
            "_model_module_version": "1.5.0",
            "_view_count": null,
            "_view_module_version": "1.5.0",
            "box_style": "",
            "layout": "IPY_MODEL_3796170008e24d5891684ccbd23827a8",
            "_model_module": "@jupyter-widgets/controls",
            "children": [
              "IPY_MODEL_448f4bd8756c497885b0cfd58b187f9b",
              "IPY_MODEL_718b75d4942e43889b89f3d45ce6bc9e",
              "IPY_MODEL_85295bb8e66443f2a32c0ea622af6320"
            ]
          }
        },
        "3796170008e24d5891684ccbd23827a8": {
          "model_module": "@jupyter-widgets/base",
          "model_name": "LayoutModel",
          "model_module_version": "1.2.0",
          "state": {
            "_view_name": "LayoutView",
            "grid_template_rows": null,
            "right": null,
            "justify_content": null,
            "_view_module": "@jupyter-widgets/base",
            "overflow": null,
            "_model_module_version": "1.2.0",
            "_view_count": null,
            "flex_flow": null,
            "width": null,
            "min_width": null,
            "border": null,
            "align_items": null,
            "bottom": null,
            "_model_module": "@jupyter-widgets/base",
            "top": null,
            "grid_column": null,
            "overflow_y": null,
            "overflow_x": null,
            "grid_auto_flow": null,
            "grid_area": null,
            "grid_template_columns": null,
            "flex": null,
            "_model_name": "LayoutModel",
            "justify_items": null,
            "grid_row": null,
            "max_height": null,
            "align_content": null,
            "visibility": null,
            "align_self": null,
            "height": null,
            "min_height": null,
            "padding": null,
            "grid_auto_rows": null,
            "grid_gap": null,
            "max_width": null,
            "order": null,
            "_view_module_version": "1.2.0",
            "grid_template_areas": null,
            "object_position": null,
            "object_fit": null,
            "grid_auto_columns": null,
            "margin": null,
            "display": null,
            "left": null
          }
        },
        "448f4bd8756c497885b0cfd58b187f9b": {
          "model_module": "@jupyter-widgets/controls",
          "model_name": "HTMLModel",
          "model_module_version": "1.5.0",
          "state": {
            "_view_name": "HTMLView",
            "style": "IPY_MODEL_303495155f8d41c4b572eb24ae10351e",
            "_dom_classes": [],
            "description": "",
            "_model_name": "HTMLModel",
            "placeholder": "​",
            "_view_module": "@jupyter-widgets/controls",
            "_model_module_version": "1.5.0",
            "value": "",
            "_view_count": null,
            "_view_module_version": "1.5.0",
            "description_tooltip": null,
            "_model_module": "@jupyter-widgets/controls",
            "layout": "IPY_MODEL_37257c608a424d6d8096a7dd0229af52"
          }
        },
        "718b75d4942e43889b89f3d45ce6bc9e": {
          "model_module": "@jupyter-widgets/controls",
          "model_name": "FloatProgressModel",
          "model_module_version": "1.5.0",
          "state": {
            "_view_name": "ProgressView",
            "style": "IPY_MODEL_aee4d3229b984fa8be8069cc092783e9",
            "_dom_classes": [],
            "description": "",
            "_model_name": "FloatProgressModel",
            "bar_style": "success",
            "max": 1,
            "_view_module": "@jupyter-widgets/controls",
            "_model_module_version": "1.5.0",
            "value": 1,
            "_view_count": null,
            "_view_module_version": "1.5.0",
            "orientation": "horizontal",
            "min": 0,
            "description_tooltip": null,
            "_model_module": "@jupyter-widgets/controls",
            "layout": "IPY_MODEL_da1e147fd6dc447c85daabda97fc1e7e"
          }
        },
        "85295bb8e66443f2a32c0ea622af6320": {
          "model_module": "@jupyter-widgets/controls",
          "model_name": "HTMLModel",
          "model_module_version": "1.5.0",
          "state": {
            "_view_name": "HTMLView",
            "style": "IPY_MODEL_e8d40fd4c1b3441c92cfb7f56006caff",
            "_dom_classes": [],
            "description": "",
            "_model_name": "HTMLModel",
            "placeholder": "​",
            "_view_module": "@jupyter-widgets/controls",
            "_model_module_version": "1.5.0",
            "value": " 1999996/? [03:20&lt;00:00, 10523.52it/s]",
            "_view_count": null,
            "_view_module_version": "1.5.0",
            "description_tooltip": null,
            "_model_module": "@jupyter-widgets/controls",
            "layout": "IPY_MODEL_bdf90828aaa14447a4d341d73533b8b1"
          }
        },
        "303495155f8d41c4b572eb24ae10351e": {
          "model_module": "@jupyter-widgets/controls",
          "model_name": "DescriptionStyleModel",
          "model_module_version": "1.5.0",
          "state": {
            "_view_name": "StyleView",
            "_model_name": "DescriptionStyleModel",
            "description_width": "",
            "_view_module": "@jupyter-widgets/base",
            "_model_module_version": "1.5.0",
            "_view_count": null,
            "_view_module_version": "1.2.0",
            "_model_module": "@jupyter-widgets/controls"
          }
        },
        "37257c608a424d6d8096a7dd0229af52": {
          "model_module": "@jupyter-widgets/base",
          "model_name": "LayoutModel",
          "model_module_version": "1.2.0",
          "state": {
            "_view_name": "LayoutView",
            "grid_template_rows": null,
            "right": null,
            "justify_content": null,
            "_view_module": "@jupyter-widgets/base",
            "overflow": null,
            "_model_module_version": "1.2.0",
            "_view_count": null,
            "flex_flow": null,
            "width": null,
            "min_width": null,
            "border": null,
            "align_items": null,
            "bottom": null,
            "_model_module": "@jupyter-widgets/base",
            "top": null,
            "grid_column": null,
            "overflow_y": null,
            "overflow_x": null,
            "grid_auto_flow": null,
            "grid_area": null,
            "grid_template_columns": null,
            "flex": null,
            "_model_name": "LayoutModel",
            "justify_items": null,
            "grid_row": null,
            "max_height": null,
            "align_content": null,
            "visibility": null,
            "align_self": null,
            "height": null,
            "min_height": null,
            "padding": null,
            "grid_auto_rows": null,
            "grid_gap": null,
            "max_width": null,
            "order": null,
            "_view_module_version": "1.2.0",
            "grid_template_areas": null,
            "object_position": null,
            "object_fit": null,
            "grid_auto_columns": null,
            "margin": null,
            "display": null,
            "left": null
          }
        },
        "aee4d3229b984fa8be8069cc092783e9": {
          "model_module": "@jupyter-widgets/controls",
          "model_name": "ProgressStyleModel",
          "model_module_version": "1.5.0",
          "state": {
            "_view_name": "StyleView",
            "_model_name": "ProgressStyleModel",
            "description_width": "",
            "_view_module": "@jupyter-widgets/base",
            "_model_module_version": "1.5.0",
            "_view_count": null,
            "_view_module_version": "1.2.0",
            "bar_color": null,
            "_model_module": "@jupyter-widgets/controls"
          }
        },
        "da1e147fd6dc447c85daabda97fc1e7e": {
          "model_module": "@jupyter-widgets/base",
          "model_name": "LayoutModel",
          "model_module_version": "1.2.0",
          "state": {
            "_view_name": "LayoutView",
            "grid_template_rows": null,
            "right": null,
            "justify_content": null,
            "_view_module": "@jupyter-widgets/base",
            "overflow": null,
            "_model_module_version": "1.2.0",
            "_view_count": null,
            "flex_flow": null,
            "width": "20px",
            "min_width": null,
            "border": null,
            "align_items": null,
            "bottom": null,
            "_model_module": "@jupyter-widgets/base",
            "top": null,
            "grid_column": null,
            "overflow_y": null,
            "overflow_x": null,
            "grid_auto_flow": null,
            "grid_area": null,
            "grid_template_columns": null,
            "flex": null,
            "_model_name": "LayoutModel",
            "justify_items": null,
            "grid_row": null,
            "max_height": null,
            "align_content": null,
            "visibility": null,
            "align_self": null,
            "height": null,
            "min_height": null,
            "padding": null,
            "grid_auto_rows": null,
            "grid_gap": null,
            "max_width": null,
            "order": null,
            "_view_module_version": "1.2.0",
            "grid_template_areas": null,
            "object_position": null,
            "object_fit": null,
            "grid_auto_columns": null,
            "margin": null,
            "display": null,
            "left": null
          }
        },
        "e8d40fd4c1b3441c92cfb7f56006caff": {
          "model_module": "@jupyter-widgets/controls",
          "model_name": "DescriptionStyleModel",
          "model_module_version": "1.5.0",
          "state": {
            "_view_name": "StyleView",
            "_model_name": "DescriptionStyleModel",
            "description_width": "",
            "_view_module": "@jupyter-widgets/base",
            "_model_module_version": "1.5.0",
            "_view_count": null,
            "_view_module_version": "1.2.0",
            "_model_module": "@jupyter-widgets/controls"
          }
        },
        "bdf90828aaa14447a4d341d73533b8b1": {
          "model_module": "@jupyter-widgets/base",
          "model_name": "LayoutModel",
          "model_module_version": "1.2.0",
          "state": {
            "_view_name": "LayoutView",
            "grid_template_rows": null,
            "right": null,
            "justify_content": null,
            "_view_module": "@jupyter-widgets/base",
            "overflow": null,
            "_model_module_version": "1.2.0",
            "_view_count": null,
            "flex_flow": null,
            "width": null,
            "min_width": null,
            "border": null,
            "align_items": null,
            "bottom": null,
            "_model_module": "@jupyter-widgets/base",
            "top": null,
            "grid_column": null,
            "overflow_y": null,
            "overflow_x": null,
            "grid_auto_flow": null,
            "grid_area": null,
            "grid_template_columns": null,
            "flex": null,
            "_model_name": "LayoutModel",
            "justify_items": null,
            "grid_row": null,
            "max_height": null,
            "align_content": null,
            "visibility": null,
            "align_self": null,
            "height": null,
            "min_height": null,
            "padding": null,
            "grid_auto_rows": null,
            "grid_gap": null,
            "max_width": null,
            "order": null,
            "_view_module_version": "1.2.0",
            "grid_template_areas": null,
            "object_position": null,
            "object_fit": null,
            "grid_auto_columns": null,
            "margin": null,
            "display": null,
            "left": null
          }
        }
      }
    }
  },
  "nbformat": 4,
  "nbformat_minor": 5
}