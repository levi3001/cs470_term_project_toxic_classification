{
  "nbformat": 4,
  "nbformat_minor": 5,
  "metadata": {
    "kernelspec": {
      "display_name": "TF2",
      "language": "python",
      "name": "tf2"
    },
    "language_info": {
      "codemirror_mode": {
        "name": "ipython",
        "version": 3
      },
      "file_extension": ".py",
      "mimetype": "text/x-python",
      "name": "python",
      "nbconvert_exporter": "python",
      "pygments_lexer": "ipython3",
      "version": "3.7.10"
    },
    "colab": {
      "name": "CNN_Toxic_Comment_Classification.ipynb",
      "provenance": [],
      "collapsed_sections": []
    },
    "widgets": {
      "application/vnd.jupyter.widget-state+json": {
        "8dfeb642430f49309603faaa9e5f6bdf": {
          "model_module": "@jupyter-widgets/controls",
          "model_name": "HBoxModel",
          "model_module_version": "1.5.0",
          "state": {
            "_view_name": "HBoxView",
            "_dom_classes": [],
            "_model_name": "HBoxModel",
            "_view_module": "@jupyter-widgets/controls",
            "_model_module_version": "1.5.0",
            "_view_count": null,
            "_view_module_version": "1.5.0",
            "box_style": "",
            "layout": "IPY_MODEL_047b41893b924e8bb6b6cb74ec138830",
            "_model_module": "@jupyter-widgets/controls",
            "children": [
              "IPY_MODEL_89efbfc6f8ce45f2bbeefe56591eb833",
              "IPY_MODEL_ad4b7122d5c8404b88a461381e550728",
              "IPY_MODEL_23a39ccc1638415d8a8c238babfe77e9"
            ]
          }
        },
        "047b41893b924e8bb6b6cb74ec138830": {
          "model_module": "@jupyter-widgets/base",
          "model_name": "LayoutModel",
          "model_module_version": "1.2.0",
          "state": {
            "_view_name": "LayoutView",
            "grid_template_rows": null,
            "right": null,
            "justify_content": null,
            "_view_module": "@jupyter-widgets/base",
            "overflow": null,
            "_model_module_version": "1.2.0",
            "_view_count": null,
            "flex_flow": null,
            "width": null,
            "min_width": null,
            "border": null,
            "align_items": null,
            "bottom": null,
            "_model_module": "@jupyter-widgets/base",
            "top": null,
            "grid_column": null,
            "overflow_y": null,
            "overflow_x": null,
            "grid_auto_flow": null,
            "grid_area": null,
            "grid_template_columns": null,
            "flex": null,
            "_model_name": "LayoutModel",
            "justify_items": null,
            "grid_row": null,
            "max_height": null,
            "align_content": null,
            "visibility": null,
            "align_self": null,
            "height": null,
            "min_height": null,
            "padding": null,
            "grid_auto_rows": null,
            "grid_gap": null,
            "max_width": null,
            "order": null,
            "_view_module_version": "1.2.0",
            "grid_template_areas": null,
            "object_position": null,
            "object_fit": null,
            "grid_auto_columns": null,
            "margin": null,
            "display": null,
            "left": null
          }
        },
        "89efbfc6f8ce45f2bbeefe56591eb833": {
          "model_module": "@jupyter-widgets/controls",
          "model_name": "HTMLModel",
          "model_module_version": "1.5.0",
          "state": {
            "_view_name": "HTMLView",
            "style": "IPY_MODEL_fd584c99c95a4e0ead88df9fc72c3150",
            "_dom_classes": [],
            "description": "",
            "_model_name": "HTMLModel",
            "placeholder": "​",
            "_view_module": "@jupyter-widgets/controls",
            "_model_module_version": "1.5.0",
            "value": "",
            "_view_count": null,
            "_view_module_version": "1.5.0",
            "description_tooltip": null,
            "_model_module": "@jupyter-widgets/controls",
            "layout": "IPY_MODEL_00c285ae78644372be4a1c60ad63ac44"
          }
        },
        "ad4b7122d5c8404b88a461381e550728": {
          "model_module": "@jupyter-widgets/controls",
          "model_name": "FloatProgressModel",
          "model_module_version": "1.5.0",
          "state": {
            "_view_name": "ProgressView",
            "style": "IPY_MODEL_d45d8102c5b34aa49d970e47dd92b59a",
            "_dom_classes": [],
            "description": "",
            "_model_name": "FloatProgressModel",
            "bar_style": "success",
            "max": 1,
            "_view_module": "@jupyter-widgets/controls",
            "_model_module_version": "1.5.0",
            "value": 1,
            "_view_count": null,
            "_view_module_version": "1.5.0",
            "orientation": "horizontal",
            "min": 0,
            "description_tooltip": null,
            "_model_module": "@jupyter-widgets/controls",
            "layout": "IPY_MODEL_b3019cf6e0844474b46862ef6dd5934e"
          }
        },
        "23a39ccc1638415d8a8c238babfe77e9": {
          "model_module": "@jupyter-widgets/controls",
          "model_name": "HTMLModel",
          "model_module_version": "1.5.0",
          "state": {
            "_view_name": "HTMLView",
            "style": "IPY_MODEL_8806d9e58bf74700867b88c45f094243",
            "_dom_classes": [],
            "description": "",
            "_model_name": "HTMLModel",
            "placeholder": "​",
            "_view_module": "@jupyter-widgets/controls",
            "_model_module_version": "1.5.0",
            "value": " 1999996/? [02:56&lt;00:00, 10472.88it/s]",
            "_view_count": null,
            "_view_module_version": "1.5.0",
            "description_tooltip": null,
            "_model_module": "@jupyter-widgets/controls",
            "layout": "IPY_MODEL_5f9f51647cbc433381405f3ff9e64336"
          }
        },
        "fd584c99c95a4e0ead88df9fc72c3150": {
          "model_module": "@jupyter-widgets/controls",
          "model_name": "DescriptionStyleModel",
          "model_module_version": "1.5.0",
          "state": {
            "_view_name": "StyleView",
            "_model_name": "DescriptionStyleModel",
            "description_width": "",
            "_view_module": "@jupyter-widgets/base",
            "_model_module_version": "1.5.0",
            "_view_count": null,
            "_view_module_version": "1.2.0",
            "_model_module": "@jupyter-widgets/controls"
          }
        },
        "00c285ae78644372be4a1c60ad63ac44": {
          "model_module": "@jupyter-widgets/base",
          "model_name": "LayoutModel",
          "model_module_version": "1.2.0",
          "state": {
            "_view_name": "LayoutView",
            "grid_template_rows": null,
            "right": null,
            "justify_content": null,
            "_view_module": "@jupyter-widgets/base",
            "overflow": null,
            "_model_module_version": "1.2.0",
            "_view_count": null,
            "flex_flow": null,
            "width": null,
            "min_width": null,
            "border": null,
            "align_items": null,
            "bottom": null,
            "_model_module": "@jupyter-widgets/base",
            "top": null,
            "grid_column": null,
            "overflow_y": null,
            "overflow_x": null,
            "grid_auto_flow": null,
            "grid_area": null,
            "grid_template_columns": null,
            "flex": null,
            "_model_name": "LayoutModel",
            "justify_items": null,
            "grid_row": null,
            "max_height": null,
            "align_content": null,
            "visibility": null,
            "align_self": null,
            "height": null,
            "min_height": null,
            "padding": null,
            "grid_auto_rows": null,
            "grid_gap": null,
            "max_width": null,
            "order": null,
            "_view_module_version": "1.2.0",
            "grid_template_areas": null,
            "object_position": null,
            "object_fit": null,
            "grid_auto_columns": null,
            "margin": null,
            "display": null,
            "left": null
          }
        },
        "d45d8102c5b34aa49d970e47dd92b59a": {
          "model_module": "@jupyter-widgets/controls",
          "model_name": "ProgressStyleModel",
          "model_module_version": "1.5.0",
          "state": {
            "_view_name": "StyleView",
            "_model_name": "ProgressStyleModel",
            "description_width": "",
            "_view_module": "@jupyter-widgets/base",
            "_model_module_version": "1.5.0",
            "_view_count": null,
            "_view_module_version": "1.2.0",
            "bar_color": null,
            "_model_module": "@jupyter-widgets/controls"
          }
        },
        "b3019cf6e0844474b46862ef6dd5934e": {
          "model_module": "@jupyter-widgets/base",
          "model_name": "LayoutModel",
          "model_module_version": "1.2.0",
          "state": {
            "_view_name": "LayoutView",
            "grid_template_rows": null,
            "right": null,
            "justify_content": null,
            "_view_module": "@jupyter-widgets/base",
            "overflow": null,
            "_model_module_version": "1.2.0",
            "_view_count": null,
            "flex_flow": null,
            "width": "20px",
            "min_width": null,
            "border": null,
            "align_items": null,
            "bottom": null,
            "_model_module": "@jupyter-widgets/base",
            "top": null,
            "grid_column": null,
            "overflow_y": null,
            "overflow_x": null,
            "grid_auto_flow": null,
            "grid_area": null,
            "grid_template_columns": null,
            "flex": null,
            "_model_name": "LayoutModel",
            "justify_items": null,
            "grid_row": null,
            "max_height": null,
            "align_content": null,
            "visibility": null,
            "align_self": null,
            "height": null,
            "min_height": null,
            "padding": null,
            "grid_auto_rows": null,
            "grid_gap": null,
            "max_width": null,
            "order": null,
            "_view_module_version": "1.2.0",
            "grid_template_areas": null,
            "object_position": null,
            "object_fit": null,
            "grid_auto_columns": null,
            "margin": null,
            "display": null,
            "left": null
          }
        },
        "8806d9e58bf74700867b88c45f094243": {
          "model_module": "@jupyter-widgets/controls",
          "model_name": "DescriptionStyleModel",
          "model_module_version": "1.5.0",
          "state": {
            "_view_name": "StyleView",
            "_model_name": "DescriptionStyleModel",
            "description_width": "",
            "_view_module": "@jupyter-widgets/base",
            "_model_module_version": "1.5.0",
            "_view_count": null,
            "_view_module_version": "1.2.0",
            "_model_module": "@jupyter-widgets/controls"
          }
        },
        "5f9f51647cbc433381405f3ff9e64336": {
          "model_module": "@jupyter-widgets/base",
          "model_name": "LayoutModel",
          "model_module_version": "1.2.0",
          "state": {
            "_view_name": "LayoutView",
            "grid_template_rows": null,
            "right": null,
            "justify_content": null,
            "_view_module": "@jupyter-widgets/base",
            "overflow": null,
            "_model_module_version": "1.2.0",
            "_view_count": null,
            "flex_flow": null,
            "width": null,
            "min_width": null,
            "border": null,
            "align_items": null,
            "bottom": null,
            "_model_module": "@jupyter-widgets/base",
            "top": null,
            "grid_column": null,
            "overflow_y": null,
            "overflow_x": null,
            "grid_auto_flow": null,
            "grid_area": null,
            "grid_template_columns": null,
            "flex": null,
            "_model_name": "LayoutModel",
            "justify_items": null,
            "grid_row": null,
            "max_height": null,
            "align_content": null,
            "visibility": null,
            "align_self": null,
            "height": null,
            "min_height": null,
            "padding": null,
            "grid_auto_rows": null,
            "grid_gap": null,
            "max_width": null,
            "order": null,
            "_view_module_version": "1.2.0",
            "grid_template_areas": null,
            "object_position": null,
            "object_fit": null,
            "grid_auto_columns": null,
            "margin": null,
            "display": null,
            "left": null
          }
        }
      }
    },
    "accelerator": "GPU"
  },
  "cells": [
    {
      "cell_type": "code",
      "metadata": {
        "id": "6940f86e"
      },
      "source": [
        "try:\n",
        "    %tensorflow_version 2.x\n",
        "except Exception:\n",
        "    pass\n",
        "\n",
        "import tensorflow as tf\n",
        "import numpy as np\n",
        "import matplotlib.pyplot as plt\n",
        "import pandas as pd\n",
        "import re"
      ],
      "id": "6940f86e",
      "execution_count": 1,
      "outputs": []
    },
    {
      "cell_type": "code",
      "metadata": {
        "colab": {
          "base_uri": "https://localhost:8080/"
        },
        "id": "1VAO1fllsZO_",
        "outputId": "327f6f6b-f23e-4310-a843-e21ed12d2d4c"
      },
      "source": [
        "from google.colab import drive\n",
        "drive.mount('/content/drive')"
      ],
      "id": "1VAO1fllsZO_",
      "execution_count": 2,
      "outputs": [
        {
          "output_type": "stream",
          "name": "stdout",
          "text": [
            "Mounted at /content/drive\n"
          ]
        }
      ]
    },
    {
      "cell_type": "code",
      "metadata": {
        "colab": {
          "base_uri": "https://localhost:8080/"
        },
        "id": "ljA7St3msizP",
        "outputId": "c155250c-ab13-43ed-9cdd-759c79a6696a"
      },
      "source": [
        "!unzip drive/MyDrive/jigsaw-toxic-comment-classification-challenge.zip -d data"
      ],
      "id": "ljA7St3msizP",
      "execution_count": 3,
      "outputs": [
        {
          "output_type": "stream",
          "name": "stdout",
          "text": [
            "Archive:  drive/MyDrive/jigsaw-toxic-comment-classification-challenge.zip\n",
            "  inflating: data/sample_submission.csv.zip  \n",
            "  inflating: data/test.csv.zip       \n",
            "  inflating: data/test_labels.csv.zip  \n",
            "  inflating: data/train.csv.zip      \n"
          ]
        }
      ]
    },
    {
      "cell_type": "code",
      "metadata": {
        "id": "90d99ec8"
      },
      "source": [
        "train_data=pd.read_csv('data/train.csv.zip')"
      ],
      "id": "90d99ec8",
      "execution_count": 4,
      "outputs": []
    },
    {
      "cell_type": "code",
      "metadata": {
        "id": "6afdc10c",
        "colab": {
          "base_uri": "https://localhost:8080/",
          "height": 423
        },
        "outputId": "bc8d7782-07e2-45ce-8e3e-9f3004eb595b"
      },
      "source": [
        "train_data"
      ],
      "id": "6afdc10c",
      "execution_count": 5,
      "outputs": [
        {
          "output_type": "execute_result",
          "data": {
            "text/html": [
              "<div>\n",
              "<style scoped>\n",
              "    .dataframe tbody tr th:only-of-type {\n",
              "        vertical-align: middle;\n",
              "    }\n",
              "\n",
              "    .dataframe tbody tr th {\n",
              "        vertical-align: top;\n",
              "    }\n",
              "\n",
              "    .dataframe thead th {\n",
              "        text-align: right;\n",
              "    }\n",
              "</style>\n",
              "<table border=\"1\" class=\"dataframe\">\n",
              "  <thead>\n",
              "    <tr style=\"text-align: right;\">\n",
              "      <th></th>\n",
              "      <th>id</th>\n",
              "      <th>comment_text</th>\n",
              "      <th>toxic</th>\n",
              "      <th>severe_toxic</th>\n",
              "      <th>obscene</th>\n",
              "      <th>threat</th>\n",
              "      <th>insult</th>\n",
              "      <th>identity_hate</th>\n",
              "    </tr>\n",
              "  </thead>\n",
              "  <tbody>\n",
              "    <tr>\n",
              "      <th>0</th>\n",
              "      <td>0000997932d777bf</td>\n",
              "      <td>Explanation\\nWhy the edits made under my usern...</td>\n",
              "      <td>0</td>\n",
              "      <td>0</td>\n",
              "      <td>0</td>\n",
              "      <td>0</td>\n",
              "      <td>0</td>\n",
              "      <td>0</td>\n",
              "    </tr>\n",
              "    <tr>\n",
              "      <th>1</th>\n",
              "      <td>000103f0d9cfb60f</td>\n",
              "      <td>D'aww! He matches this background colour I'm s...</td>\n",
              "      <td>0</td>\n",
              "      <td>0</td>\n",
              "      <td>0</td>\n",
              "      <td>0</td>\n",
              "      <td>0</td>\n",
              "      <td>0</td>\n",
              "    </tr>\n",
              "    <tr>\n",
              "      <th>2</th>\n",
              "      <td>000113f07ec002fd</td>\n",
              "      <td>Hey man, I'm really not trying to edit war. It...</td>\n",
              "      <td>0</td>\n",
              "      <td>0</td>\n",
              "      <td>0</td>\n",
              "      <td>0</td>\n",
              "      <td>0</td>\n",
              "      <td>0</td>\n",
              "    </tr>\n",
              "    <tr>\n",
              "      <th>3</th>\n",
              "      <td>0001b41b1c6bb37e</td>\n",
              "      <td>\"\\nMore\\nI can't make any real suggestions on ...</td>\n",
              "      <td>0</td>\n",
              "      <td>0</td>\n",
              "      <td>0</td>\n",
              "      <td>0</td>\n",
              "      <td>0</td>\n",
              "      <td>0</td>\n",
              "    </tr>\n",
              "    <tr>\n",
              "      <th>4</th>\n",
              "      <td>0001d958c54c6e35</td>\n",
              "      <td>You, sir, are my hero. Any chance you remember...</td>\n",
              "      <td>0</td>\n",
              "      <td>0</td>\n",
              "      <td>0</td>\n",
              "      <td>0</td>\n",
              "      <td>0</td>\n",
              "      <td>0</td>\n",
              "    </tr>\n",
              "    <tr>\n",
              "      <th>...</th>\n",
              "      <td>...</td>\n",
              "      <td>...</td>\n",
              "      <td>...</td>\n",
              "      <td>...</td>\n",
              "      <td>...</td>\n",
              "      <td>...</td>\n",
              "      <td>...</td>\n",
              "      <td>...</td>\n",
              "    </tr>\n",
              "    <tr>\n",
              "      <th>159566</th>\n",
              "      <td>ffe987279560d7ff</td>\n",
              "      <td>\":::::And for the second time of asking, when ...</td>\n",
              "      <td>0</td>\n",
              "      <td>0</td>\n",
              "      <td>0</td>\n",
              "      <td>0</td>\n",
              "      <td>0</td>\n",
              "      <td>0</td>\n",
              "    </tr>\n",
              "    <tr>\n",
              "      <th>159567</th>\n",
              "      <td>ffea4adeee384e90</td>\n",
              "      <td>You should be ashamed of yourself \\n\\nThat is ...</td>\n",
              "      <td>0</td>\n",
              "      <td>0</td>\n",
              "      <td>0</td>\n",
              "      <td>0</td>\n",
              "      <td>0</td>\n",
              "      <td>0</td>\n",
              "    </tr>\n",
              "    <tr>\n",
              "      <th>159568</th>\n",
              "      <td>ffee36eab5c267c9</td>\n",
              "      <td>Spitzer \\n\\nUmm, theres no actual article for ...</td>\n",
              "      <td>0</td>\n",
              "      <td>0</td>\n",
              "      <td>0</td>\n",
              "      <td>0</td>\n",
              "      <td>0</td>\n",
              "      <td>0</td>\n",
              "    </tr>\n",
              "    <tr>\n",
              "      <th>159569</th>\n",
              "      <td>fff125370e4aaaf3</td>\n",
              "      <td>And it looks like it was actually you who put ...</td>\n",
              "      <td>0</td>\n",
              "      <td>0</td>\n",
              "      <td>0</td>\n",
              "      <td>0</td>\n",
              "      <td>0</td>\n",
              "      <td>0</td>\n",
              "    </tr>\n",
              "    <tr>\n",
              "      <th>159570</th>\n",
              "      <td>fff46fc426af1f9a</td>\n",
              "      <td>\"\\nAnd ... I really don't think you understand...</td>\n",
              "      <td>0</td>\n",
              "      <td>0</td>\n",
              "      <td>0</td>\n",
              "      <td>0</td>\n",
              "      <td>0</td>\n",
              "      <td>0</td>\n",
              "    </tr>\n",
              "  </tbody>\n",
              "</table>\n",
              "<p>159571 rows × 8 columns</p>\n",
              "</div>"
            ],
            "text/plain": [
              "                      id  ... identity_hate\n",
              "0       0000997932d777bf  ...             0\n",
              "1       000103f0d9cfb60f  ...             0\n",
              "2       000113f07ec002fd  ...             0\n",
              "3       0001b41b1c6bb37e  ...             0\n",
              "4       0001d958c54c6e35  ...             0\n",
              "...                  ...  ...           ...\n",
              "159566  ffe987279560d7ff  ...             0\n",
              "159567  ffea4adeee384e90  ...             0\n",
              "159568  ffee36eab5c267c9  ...             0\n",
              "159569  fff125370e4aaaf3  ...             0\n",
              "159570  fff46fc426af1f9a  ...             0\n",
              "\n",
              "[159571 rows x 8 columns]"
            ]
          },
          "metadata": {},
          "execution_count": 5
        }
      ]
    },
    {
      "cell_type": "code",
      "metadata": {
        "id": "d43a7346"
      },
      "source": [
        "test_data=pd.read_csv('data/test.csv.zip')"
      ],
      "id": "d43a7346",
      "execution_count": 6,
      "outputs": []
    },
    {
      "cell_type": "code",
      "metadata": {
        "id": "d06317cc",
        "colab": {
          "base_uri": "https://localhost:8080/",
          "height": 423
        },
        "outputId": "9b6be3ee-a626-4f06-b480-4bc7ce527535"
      },
      "source": [
        "test_data"
      ],
      "id": "d06317cc",
      "execution_count": 7,
      "outputs": [
        {
          "output_type": "execute_result",
          "data": {
            "text/html": [
              "<div>\n",
              "<style scoped>\n",
              "    .dataframe tbody tr th:only-of-type {\n",
              "        vertical-align: middle;\n",
              "    }\n",
              "\n",
              "    .dataframe tbody tr th {\n",
              "        vertical-align: top;\n",
              "    }\n",
              "\n",
              "    .dataframe thead th {\n",
              "        text-align: right;\n",
              "    }\n",
              "</style>\n",
              "<table border=\"1\" class=\"dataframe\">\n",
              "  <thead>\n",
              "    <tr style=\"text-align: right;\">\n",
              "      <th></th>\n",
              "      <th>id</th>\n",
              "      <th>comment_text</th>\n",
              "    </tr>\n",
              "  </thead>\n",
              "  <tbody>\n",
              "    <tr>\n",
              "      <th>0</th>\n",
              "      <td>00001cee341fdb12</td>\n",
              "      <td>Yo bitch Ja Rule is more succesful then you'll...</td>\n",
              "    </tr>\n",
              "    <tr>\n",
              "      <th>1</th>\n",
              "      <td>0000247867823ef7</td>\n",
              "      <td>== From RfC == \\n\\n The title is fine as it is...</td>\n",
              "    </tr>\n",
              "    <tr>\n",
              "      <th>2</th>\n",
              "      <td>00013b17ad220c46</td>\n",
              "      <td>\" \\n\\n == Sources == \\n\\n * Zawe Ashton on Lap...</td>\n",
              "    </tr>\n",
              "    <tr>\n",
              "      <th>3</th>\n",
              "      <td>00017563c3f7919a</td>\n",
              "      <td>:If you have a look back at the source, the in...</td>\n",
              "    </tr>\n",
              "    <tr>\n",
              "      <th>4</th>\n",
              "      <td>00017695ad8997eb</td>\n",
              "      <td>I don't anonymously edit articles at all.</td>\n",
              "    </tr>\n",
              "    <tr>\n",
              "      <th>...</th>\n",
              "      <td>...</td>\n",
              "      <td>...</td>\n",
              "    </tr>\n",
              "    <tr>\n",
              "      <th>153159</th>\n",
              "      <td>fffcd0960ee309b5</td>\n",
              "      <td>. \\n i totally agree, this stuff is nothing bu...</td>\n",
              "    </tr>\n",
              "    <tr>\n",
              "      <th>153160</th>\n",
              "      <td>fffd7a9a6eb32c16</td>\n",
              "      <td>== Throw from out field to home plate. == \\n\\n...</td>\n",
              "    </tr>\n",
              "    <tr>\n",
              "      <th>153161</th>\n",
              "      <td>fffda9e8d6fafa9e</td>\n",
              "      <td>\" \\n\\n == Okinotorishima categories == \\n\\n I ...</td>\n",
              "    </tr>\n",
              "    <tr>\n",
              "      <th>153162</th>\n",
              "      <td>fffe8f1340a79fc2</td>\n",
              "      <td>\" \\n\\n == \"\"One of the founding nations of the...</td>\n",
              "    </tr>\n",
              "    <tr>\n",
              "      <th>153163</th>\n",
              "      <td>ffffce3fb183ee80</td>\n",
              "      <td>\" \\n :::Stop already. Your bullshit is not wel...</td>\n",
              "    </tr>\n",
              "  </tbody>\n",
              "</table>\n",
              "<p>153164 rows × 2 columns</p>\n",
              "</div>"
            ],
            "text/plain": [
              "                      id                                       comment_text\n",
              "0       00001cee341fdb12  Yo bitch Ja Rule is more succesful then you'll...\n",
              "1       0000247867823ef7  == From RfC == \\n\\n The title is fine as it is...\n",
              "2       00013b17ad220c46  \" \\n\\n == Sources == \\n\\n * Zawe Ashton on Lap...\n",
              "3       00017563c3f7919a  :If you have a look back at the source, the in...\n",
              "4       00017695ad8997eb          I don't anonymously edit articles at all.\n",
              "...                  ...                                                ...\n",
              "153159  fffcd0960ee309b5  . \\n i totally agree, this stuff is nothing bu...\n",
              "153160  fffd7a9a6eb32c16  == Throw from out field to home plate. == \\n\\n...\n",
              "153161  fffda9e8d6fafa9e  \" \\n\\n == Okinotorishima categories == \\n\\n I ...\n",
              "153162  fffe8f1340a79fc2  \" \\n\\n == \"\"One of the founding nations of the...\n",
              "153163  ffffce3fb183ee80  \" \\n :::Stop already. Your bullshit is not wel...\n",
              "\n",
              "[153164 rows x 2 columns]"
            ]
          },
          "metadata": {},
          "execution_count": 7
        }
      ]
    },
    {
      "cell_type": "code",
      "metadata": {
        "id": "zldoGNuvAGzM"
      },
      "source": [
        "from sklearn.feature_extraction.text import ENGLISH_STOP_WORDS\n",
        "\n",
        "def remove_stop_word(text):\n",
        "  words = [word for word in text.split() if word.lower() not in ENGLISH_STOP_WORDS]\n",
        "  return \" \".join(words)"
      ],
      "id": "zldoGNuvAGzM",
      "execution_count": 8,
      "outputs": []
    },
    {
      "cell_type": "code",
      "metadata": {
        "id": "8SUZwI3HCp3x"
      },
      "source": [
        "import string\n",
        "def remove_punc(text):\n",
        "  return text.translate(str.maketrans('', '', string.punctuation))"
      ],
      "id": "8SUZwI3HCp3x",
      "execution_count": 9,
      "outputs": []
    },
    {
      "cell_type": "code",
      "metadata": {
        "id": "NZLux8WqGOZh"
      },
      "source": [
        "import nltk\n",
        "from nltk.stem.porter import PorterStemmer\n",
        "\n",
        "def stem(text):\n",
        "  porter_stemmer = PorterStemmer()\n",
        "  words = [porter_stemmer.stem(word) for word in text.split()]\n",
        "  return \" \".join(words)"
      ],
      "id": "NZLux8WqGOZh",
      "execution_count": 10,
      "outputs": []
    },
    {
      "cell_type": "code",
      "metadata": {
        "id": "4667a914"
      },
      "source": [
        "def clean_text(text):\n",
        "    text = text.lower()\n",
        "    text = re.sub(r\"what's\", \"what is \", text)\n",
        "    text = re.sub(r\"\\'s\", \" \", text)\n",
        "    text = re.sub(r\"\\'ve\", \" have \", text)\n",
        "    text = re.sub(r\"can't\", \"cannot \", text)\n",
        "    text = re.sub(r\"n't\", \" not \", text)\n",
        "    text = re.sub(r\"i'm\", \"i am \", text)\n",
        "    text = re.sub(r\"\\'re\", \" are \", text)\n",
        "    text = re.sub(r\"\\'d\", \" would \", text)\n",
        "    text = re.sub(r\"\\'ll\", \" will \", text)\n",
        "    text = re.sub(r\"\\'scuse\", \" excuse \", text)\n",
        "    text = re.sub('\\W', ' ', text)\n",
        "    text = re.sub('\\s+', ' ', text)\n",
        "    text = text.strip(' ')\n",
        "    return text\n",
        "#https://www.kaggle.com/gtskyler/toxic-comments-bert"
      ],
      "id": "4667a914",
      "execution_count": 11,
      "outputs": []
    },
    {
      "cell_type": "code",
      "metadata": {
        "id": "rEiFxKy2IEcz"
      },
      "source": [
        "# train_data['comment_texxxt'] = train_data['comment_text'].map(lambda text: clean_text(text)).map(lambda text: remove_punc(text)).map(lambda text: remove_stop_word(text))\n",
        "# test_data['comment_texxxt'] = test_data['comment_text'].map(lambda text: clean_text(text)).map(lambda text: remove_punc(text)).map(lambda text: remove_stop_word(text))\n",
        "train_data['comment_texxxt'] = train_data['comment_text'].map(lambda text: clean_text(text)).map(lambda text: remove_punc(text))\n",
        "test_data['comment_texxxt'] = test_data['comment_text'].map(lambda text: clean_text(text)).map(lambda text: remove_punc(text))"
      ],
      "id": "rEiFxKy2IEcz",
      "execution_count": 12,
      "outputs": []
    },
    {
      "cell_type": "code",
      "metadata": {
        "id": "4576083d"
      },
      "source": [
        "train_data['comment_texxt'] = train_data['comment_text'].map(lambda text: clean_text(text))\n",
        "test_data['comment_texxt'] = test_data['comment_text'].map(lambda text: clean_text(text))"
      ],
      "id": "4576083d",
      "execution_count": 13,
      "outputs": []
    },
    {
      "cell_type": "code",
      "metadata": {
        "colab": {
          "base_uri": "https://localhost:8080/",
          "height": 701
        },
        "id": "b812599c",
        "outputId": "3a07058e-6dbb-450b-c24d-a572ce8611aa"
      },
      "source": [
        "train_data"
      ],
      "id": "b812599c",
      "execution_count": 14,
      "outputs": [
        {
          "output_type": "execute_result",
          "data": {
            "text/html": [
              "<div>\n",
              "<style scoped>\n",
              "    .dataframe tbody tr th:only-of-type {\n",
              "        vertical-align: middle;\n",
              "    }\n",
              "\n",
              "    .dataframe tbody tr th {\n",
              "        vertical-align: top;\n",
              "    }\n",
              "\n",
              "    .dataframe thead th {\n",
              "        text-align: right;\n",
              "    }\n",
              "</style>\n",
              "<table border=\"1\" class=\"dataframe\">\n",
              "  <thead>\n",
              "    <tr style=\"text-align: right;\">\n",
              "      <th></th>\n",
              "      <th>id</th>\n",
              "      <th>comment_text</th>\n",
              "      <th>toxic</th>\n",
              "      <th>severe_toxic</th>\n",
              "      <th>obscene</th>\n",
              "      <th>threat</th>\n",
              "      <th>insult</th>\n",
              "      <th>identity_hate</th>\n",
              "      <th>comment_texxxt</th>\n",
              "      <th>comment_texxt</th>\n",
              "    </tr>\n",
              "  </thead>\n",
              "  <tbody>\n",
              "    <tr>\n",
              "      <th>0</th>\n",
              "      <td>0000997932d777bf</td>\n",
              "      <td>Explanation\\nWhy the edits made under my usern...</td>\n",
              "      <td>0</td>\n",
              "      <td>0</td>\n",
              "      <td>0</td>\n",
              "      <td>0</td>\n",
              "      <td>0</td>\n",
              "      <td>0</td>\n",
              "      <td>explanation why the edits made under my userna...</td>\n",
              "      <td>explanation why the edits made under my userna...</td>\n",
              "    </tr>\n",
              "    <tr>\n",
              "      <th>1</th>\n",
              "      <td>000103f0d9cfb60f</td>\n",
              "      <td>D'aww! He matches this background colour I'm s...</td>\n",
              "      <td>0</td>\n",
              "      <td>0</td>\n",
              "      <td>0</td>\n",
              "      <td>0</td>\n",
              "      <td>0</td>\n",
              "      <td>0</td>\n",
              "      <td>d aww he matches this background colour i am s...</td>\n",
              "      <td>d aww he matches this background colour i am s...</td>\n",
              "    </tr>\n",
              "    <tr>\n",
              "      <th>2</th>\n",
              "      <td>000113f07ec002fd</td>\n",
              "      <td>Hey man, I'm really not trying to edit war. It...</td>\n",
              "      <td>0</td>\n",
              "      <td>0</td>\n",
              "      <td>0</td>\n",
              "      <td>0</td>\n",
              "      <td>0</td>\n",
              "      <td>0</td>\n",
              "      <td>hey man i am really not trying to edit war it ...</td>\n",
              "      <td>hey man i am really not trying to edit war it ...</td>\n",
              "    </tr>\n",
              "    <tr>\n",
              "      <th>3</th>\n",
              "      <td>0001b41b1c6bb37e</td>\n",
              "      <td>\"\\nMore\\nI can't make any real suggestions on ...</td>\n",
              "      <td>0</td>\n",
              "      <td>0</td>\n",
              "      <td>0</td>\n",
              "      <td>0</td>\n",
              "      <td>0</td>\n",
              "      <td>0</td>\n",
              "      <td>more i cannot make any real suggestions on imp...</td>\n",
              "      <td>more i cannot make any real suggestions on imp...</td>\n",
              "    </tr>\n",
              "    <tr>\n",
              "      <th>4</th>\n",
              "      <td>0001d958c54c6e35</td>\n",
              "      <td>You, sir, are my hero. Any chance you remember...</td>\n",
              "      <td>0</td>\n",
              "      <td>0</td>\n",
              "      <td>0</td>\n",
              "      <td>0</td>\n",
              "      <td>0</td>\n",
              "      <td>0</td>\n",
              "      <td>you sir are my hero any chance you remember wh...</td>\n",
              "      <td>you sir are my hero any chance you remember wh...</td>\n",
              "    </tr>\n",
              "    <tr>\n",
              "      <th>...</th>\n",
              "      <td>...</td>\n",
              "      <td>...</td>\n",
              "      <td>...</td>\n",
              "      <td>...</td>\n",
              "      <td>...</td>\n",
              "      <td>...</td>\n",
              "      <td>...</td>\n",
              "      <td>...</td>\n",
              "      <td>...</td>\n",
              "      <td>...</td>\n",
              "    </tr>\n",
              "    <tr>\n",
              "      <th>159566</th>\n",
              "      <td>ffe987279560d7ff</td>\n",
              "      <td>\":::::And for the second time of asking, when ...</td>\n",
              "      <td>0</td>\n",
              "      <td>0</td>\n",
              "      <td>0</td>\n",
              "      <td>0</td>\n",
              "      <td>0</td>\n",
              "      <td>0</td>\n",
              "      <td>and for the second time of asking when your vi...</td>\n",
              "      <td>and for the second time of asking when your vi...</td>\n",
              "    </tr>\n",
              "    <tr>\n",
              "      <th>159567</th>\n",
              "      <td>ffea4adeee384e90</td>\n",
              "      <td>You should be ashamed of yourself \\n\\nThat is ...</td>\n",
              "      <td>0</td>\n",
              "      <td>0</td>\n",
              "      <td>0</td>\n",
              "      <td>0</td>\n",
              "      <td>0</td>\n",
              "      <td>0</td>\n",
              "      <td>you should be ashamed of yourself that is a ho...</td>\n",
              "      <td>you should be ashamed of yourself that is a ho...</td>\n",
              "    </tr>\n",
              "    <tr>\n",
              "      <th>159568</th>\n",
              "      <td>ffee36eab5c267c9</td>\n",
              "      <td>Spitzer \\n\\nUmm, theres no actual article for ...</td>\n",
              "      <td>0</td>\n",
              "      <td>0</td>\n",
              "      <td>0</td>\n",
              "      <td>0</td>\n",
              "      <td>0</td>\n",
              "      <td>0</td>\n",
              "      <td>spitzer umm theres no actual article for prost...</td>\n",
              "      <td>spitzer umm theres no actual article for prost...</td>\n",
              "    </tr>\n",
              "    <tr>\n",
              "      <th>159569</th>\n",
              "      <td>fff125370e4aaaf3</td>\n",
              "      <td>And it looks like it was actually you who put ...</td>\n",
              "      <td>0</td>\n",
              "      <td>0</td>\n",
              "      <td>0</td>\n",
              "      <td>0</td>\n",
              "      <td>0</td>\n",
              "      <td>0</td>\n",
              "      <td>and it looks like it was actually you who put ...</td>\n",
              "      <td>and it looks like it was actually you who put ...</td>\n",
              "    </tr>\n",
              "    <tr>\n",
              "      <th>159570</th>\n",
              "      <td>fff46fc426af1f9a</td>\n",
              "      <td>\"\\nAnd ... I really don't think you understand...</td>\n",
              "      <td>0</td>\n",
              "      <td>0</td>\n",
              "      <td>0</td>\n",
              "      <td>0</td>\n",
              "      <td>0</td>\n",
              "      <td>0</td>\n",
              "      <td>and i really do not think you understand i cam...</td>\n",
              "      <td>and i really do not think you understand i cam...</td>\n",
              "    </tr>\n",
              "  </tbody>\n",
              "</table>\n",
              "<p>159571 rows × 10 columns</p>\n",
              "</div>"
            ],
            "text/plain": [
              "                      id  ...                                      comment_texxt\n",
              "0       0000997932d777bf  ...  explanation why the edits made under my userna...\n",
              "1       000103f0d9cfb60f  ...  d aww he matches this background colour i am s...\n",
              "2       000113f07ec002fd  ...  hey man i am really not trying to edit war it ...\n",
              "3       0001b41b1c6bb37e  ...  more i cannot make any real suggestions on imp...\n",
              "4       0001d958c54c6e35  ...  you sir are my hero any chance you remember wh...\n",
              "...                  ...  ...                                                ...\n",
              "159566  ffe987279560d7ff  ...  and for the second time of asking when your vi...\n",
              "159567  ffea4adeee384e90  ...  you should be ashamed of yourself that is a ho...\n",
              "159568  ffee36eab5c267c9  ...  spitzer umm theres no actual article for prost...\n",
              "159569  fff125370e4aaaf3  ...  and it looks like it was actually you who put ...\n",
              "159570  fff46fc426af1f9a  ...  and i really do not think you understand i cam...\n",
              "\n",
              "[159571 rows x 10 columns]"
            ]
          },
          "metadata": {},
          "execution_count": 14
        }
      ]
    },
    {
      "cell_type": "code",
      "metadata": {
        "colab": {
          "base_uri": "https://localhost:8080/",
          "height": 423
        },
        "id": "dHgdOG88XCSG",
        "outputId": "b7b37de2-948b-4ab8-8aa7-e093aebbbd54"
      },
      "source": [
        "test_data"
      ],
      "id": "dHgdOG88XCSG",
      "execution_count": 15,
      "outputs": [
        {
          "output_type": "execute_result",
          "data": {
            "text/html": [
              "<div>\n",
              "<style scoped>\n",
              "    .dataframe tbody tr th:only-of-type {\n",
              "        vertical-align: middle;\n",
              "    }\n",
              "\n",
              "    .dataframe tbody tr th {\n",
              "        vertical-align: top;\n",
              "    }\n",
              "\n",
              "    .dataframe thead th {\n",
              "        text-align: right;\n",
              "    }\n",
              "</style>\n",
              "<table border=\"1\" class=\"dataframe\">\n",
              "  <thead>\n",
              "    <tr style=\"text-align: right;\">\n",
              "      <th></th>\n",
              "      <th>id</th>\n",
              "      <th>comment_text</th>\n",
              "      <th>comment_texxxt</th>\n",
              "      <th>comment_texxt</th>\n",
              "    </tr>\n",
              "  </thead>\n",
              "  <tbody>\n",
              "    <tr>\n",
              "      <th>0</th>\n",
              "      <td>00001cee341fdb12</td>\n",
              "      <td>Yo bitch Ja Rule is more succesful then you'll...</td>\n",
              "      <td>yo bitch ja rule is more succesful then you wi...</td>\n",
              "      <td>yo bitch ja rule is more succesful then you wi...</td>\n",
              "    </tr>\n",
              "    <tr>\n",
              "      <th>1</th>\n",
              "      <td>0000247867823ef7</td>\n",
              "      <td>== From RfC == \\n\\n The title is fine as it is...</td>\n",
              "      <td>from rfc the title is fine as it is imo</td>\n",
              "      <td>from rfc the title is fine as it is imo</td>\n",
              "    </tr>\n",
              "    <tr>\n",
              "      <th>2</th>\n",
              "      <td>00013b17ad220c46</td>\n",
              "      <td>\" \\n\\n == Sources == \\n\\n * Zawe Ashton on Lap...</td>\n",
              "      <td>sources zawe ashton on lapland</td>\n",
              "      <td>sources zawe ashton on lapland</td>\n",
              "    </tr>\n",
              "    <tr>\n",
              "      <th>3</th>\n",
              "      <td>00017563c3f7919a</td>\n",
              "      <td>:If you have a look back at the source, the in...</td>\n",
              "      <td>if you have a look back at the source the info...</td>\n",
              "      <td>if you have a look back at the source the info...</td>\n",
              "    </tr>\n",
              "    <tr>\n",
              "      <th>4</th>\n",
              "      <td>00017695ad8997eb</td>\n",
              "      <td>I don't anonymously edit articles at all.</td>\n",
              "      <td>i do not anonymously edit articles at all</td>\n",
              "      <td>i do not anonymously edit articles at all</td>\n",
              "    </tr>\n",
              "    <tr>\n",
              "      <th>...</th>\n",
              "      <td>...</td>\n",
              "      <td>...</td>\n",
              "      <td>...</td>\n",
              "      <td>...</td>\n",
              "    </tr>\n",
              "    <tr>\n",
              "      <th>153159</th>\n",
              "      <td>fffcd0960ee309b5</td>\n",
              "      <td>. \\n i totally agree, this stuff is nothing bu...</td>\n",
              "      <td>i totally agree this stuff is nothing but too ...</td>\n",
              "      <td>i totally agree this stuff is nothing but too ...</td>\n",
              "    </tr>\n",
              "    <tr>\n",
              "      <th>153160</th>\n",
              "      <td>fffd7a9a6eb32c16</td>\n",
              "      <td>== Throw from out field to home plate. == \\n\\n...</td>\n",
              "      <td>throw from out field to home plate does it get...</td>\n",
              "      <td>throw from out field to home plate does it get...</td>\n",
              "    </tr>\n",
              "    <tr>\n",
              "      <th>153161</th>\n",
              "      <td>fffda9e8d6fafa9e</td>\n",
              "      <td>\" \\n\\n == Okinotorishima categories == \\n\\n I ...</td>\n",
              "      <td>okinotorishima categories i see your changes a...</td>\n",
              "      <td>okinotorishima categories i see your changes a...</td>\n",
              "    </tr>\n",
              "    <tr>\n",
              "      <th>153162</th>\n",
              "      <td>fffe8f1340a79fc2</td>\n",
              "      <td>\" \\n\\n == \"\"One of the founding nations of the...</td>\n",
              "      <td>one of the founding nations of the eu germany ...</td>\n",
              "      <td>one of the founding nations of the eu germany ...</td>\n",
              "    </tr>\n",
              "    <tr>\n",
              "      <th>153163</th>\n",
              "      <td>ffffce3fb183ee80</td>\n",
              "      <td>\" \\n :::Stop already. Your bullshit is not wel...</td>\n",
              "      <td>stop already your bullshit is not welcome here...</td>\n",
              "      <td>stop already your bullshit is not welcome here...</td>\n",
              "    </tr>\n",
              "  </tbody>\n",
              "</table>\n",
              "<p>153164 rows × 4 columns</p>\n",
              "</div>"
            ],
            "text/plain": [
              "                      id  ...                                      comment_texxt\n",
              "0       00001cee341fdb12  ...  yo bitch ja rule is more succesful then you wi...\n",
              "1       0000247867823ef7  ...            from rfc the title is fine as it is imo\n",
              "2       00013b17ad220c46  ...                     sources zawe ashton on lapland\n",
              "3       00017563c3f7919a  ...  if you have a look back at the source the info...\n",
              "4       00017695ad8997eb  ...          i do not anonymously edit articles at all\n",
              "...                  ...  ...                                                ...\n",
              "153159  fffcd0960ee309b5  ...  i totally agree this stuff is nothing but too ...\n",
              "153160  fffd7a9a6eb32c16  ...  throw from out field to home plate does it get...\n",
              "153161  fffda9e8d6fafa9e  ...  okinotorishima categories i see your changes a...\n",
              "153162  fffe8f1340a79fc2  ...  one of the founding nations of the eu germany ...\n",
              "153163  ffffce3fb183ee80  ...  stop already your bullshit is not welcome here...\n",
              "\n",
              "[153164 rows x 4 columns]"
            ]
          },
          "metadata": {},
          "execution_count": 15
        }
      ]
    },
    {
      "cell_type": "code",
      "metadata": {
        "id": "c7ebae5e"
      },
      "source": [
        "from sklearn.feature_extraction.text import CountVectorizer\n",
        "from keras.preprocessing.text import Tokenizer\n",
        "from keras.preprocessing.sequence import pad_sequences\n",
        "from keras.models import Sequential\n",
        "from keras.layers import Dense, Embedding, LSTM, SpatialDropout1D\n",
        "from sklearn.model_selection import train_test_split\n",
        "from keras.utils.np_utils import to_categorical"
      ],
      "id": "c7ebae5e",
      "execution_count": 16,
      "outputs": []
    },
    {
      "cell_type": "code",
      "metadata": {
        "id": "ad0242ca"
      },
      "source": [
        "# train_values_x = train_data['comment_texxt'].values\n",
        "train_values_x = train_data['comment_texxxt'].values\n",
        "train_values_y = train_data[[\"toxic\",\"severe_toxic\",\"obscene\",\"threat\",\"insult\",\"identity_hate\"]].values"
      ],
      "id": "ad0242ca",
      "execution_count": 17,
      "outputs": []
    },
    {
      "cell_type": "code",
      "metadata": {
        "colab": {
          "base_uri": "https://localhost:8080/"
        },
        "id": "491864a3",
        "outputId": "8c8ac8ea-d79f-40e8-822c-ce7ef7ae73db"
      },
      "source": [
        "train_values_x"
      ],
      "id": "491864a3",
      "execution_count": 18,
      "outputs": [
        {
          "output_type": "execute_result",
          "data": {
            "text/plain": [
              "array(['explanation why the edits made under my username hardcore metallica fan were reverted they were not vandalisms just closure on some gas after i voted at new york dolls fac and please do not remove the template from the talk page since i am retired now 89 205 38 27',\n",
              "       'd aww he matches this background colour i am seemingly stuck with thanks talk 21 51 january 11 2016 utc',\n",
              "       'hey man i am really not trying to edit war it just that this guy is constantly removing relevant information and talking to me through edits instead of my talk page he seems to care more about the formatting than the actual info',\n",
              "       ...,\n",
              "       'spitzer umm theres no actual article for prostitution ring crunch captain',\n",
              "       'and it looks like it was actually you who put on the speedy to have the first version deleted now that i look at it',\n",
              "       'and i really do not think you understand i came here and my idea was bad right away what kind of community goes you have bad ideas go away instead of helping rewrite them'],\n",
              "      dtype=object)"
            ]
          },
          "metadata": {},
          "execution_count": 18
        }
      ]
    },
    {
      "cell_type": "code",
      "metadata": {
        "colab": {
          "base_uri": "https://localhost:8080/"
        },
        "id": "f1f558b9",
        "outputId": "5442b3fa-61f2-48c6-cad8-0a852a63d99d"
      },
      "source": [
        "train_values_y"
      ],
      "id": "f1f558b9",
      "execution_count": 19,
      "outputs": [
        {
          "output_type": "execute_result",
          "data": {
            "text/plain": [
              "array([[0, 0, 0, 0, 0, 0],\n",
              "       [0, 0, 0, 0, 0, 0],\n",
              "       [0, 0, 0, 0, 0, 0],\n",
              "       ...,\n",
              "       [0, 0, 0, 0, 0, 0],\n",
              "       [0, 0, 0, 0, 0, 0],\n",
              "       [0, 0, 0, 0, 0, 0]])"
            ]
          },
          "metadata": {},
          "execution_count": 19
        }
      ]
    },
    {
      "cell_type": "code",
      "metadata": {
        "id": "ca9d0e91"
      },
      "source": [
        "# Split training, validation set\n",
        "train_x, val_x, train_y, val_y = train_test_split(train_values_x, train_values_y, test_size=0.2, random_state=30)"
      ],
      "id": "ca9d0e91",
      "execution_count": 20,
      "outputs": []
    },
    {
      "cell_type": "code",
      "metadata": {
        "colab": {
          "base_uri": "https://localhost:8080/"
        },
        "id": "00af376e",
        "outputId": "d2d4a671-0d9d-4e65-feef-a4528ce7ab98"
      },
      "source": [
        "val_x"
      ],
      "id": "00af376e",
      "execution_count": 21,
      "outputs": [
        {
          "output_type": "execute_result",
          "data": {
            "text/plain": [
              "array(['the syrian army is now advancing on aleppo with russian air cover this article is inherently unstable the article is also edited appropriately as the war progresses which just means it is unstable',\n",
              "       'oppose there is zero benefit to readers particularly mobile users from ambiguous titles justin brown defensive lineman born 1982 gridiron football defensive end justin brown wide receiver born 1991 american football wide receiver and justin brown aquanaut american professional aquanaut are clearly titled per wp criteria at the moment leave well alone',\n",
              "       'file skin of our teeth handbill jpg you have added a comment asking for the addition of a copyright status however i do not see any warnings attached to that image so i do not understand what is wrong with what i have already attached it is a low res version of a promotional item which comes under fair use it is also a photograph of something i own so it is also covered under fair use from that angle tell me that you think i need to add that is not already covered',\n",
              "       ...,\n",
              "       'really it not so much selflessness as just a general opinion that people put too much stock in who a person is and what they have done in their life i would much prefer to judge others and have others judge me by my contributions both good and bad when i had a short biography on my userpage i think people treated me differently because of my age and my background and i never really liked that',\n",
              "       'june 2007 please stop if you continue to ignore our policies by introducing inappropriate pages such as sauce face to wikipedia you will be blocked',\n",
              "       'the biography of robert dallenbach lacks any credible sources all the articles related to the pillar of fire church are irrelevant to this encyclopedia and should be deleted one biography of orland wolfram states that he founded the mision biblica where are the documented sources someone in the pillar of fire has learned how to bypass wiki standards carol penrod the last phrase contains misspelled english they probably meant the founder of the church wiki editors where are you carol penrod'],\n",
              "      dtype=object)"
            ]
          },
          "metadata": {},
          "execution_count": 21
        }
      ]
    },
    {
      "cell_type": "code",
      "metadata": {
        "colab": {
          "base_uri": "https://localhost:8080/"
        },
        "id": "42b018bf",
        "outputId": "1724dd05-5d97-4c76-fac8-953e10b17832"
      },
      "source": [
        "print(train_x.shape)\n",
        "print(train_y.shape)\n",
        "print(val_x.shape)\n",
        "print(val_y.shape)"
      ],
      "id": "42b018bf",
      "execution_count": 22,
      "outputs": [
        {
          "output_type": "stream",
          "name": "stdout",
          "text": [
            "(127656,)\n",
            "(127656, 6)\n",
            "(31915,)\n",
            "(31915, 6)\n"
          ]
        }
      ]
    },
    {
      "cell_type": "code",
      "metadata": {
        "id": "899411b7"
      },
      "source": [
        "# Tokenize training data\n",
        "vocab_len = 100000\n",
        "tokenizer = Tokenizer(num_words = vocab_len, oov_token='<oov>')\n",
        "# tokenizer.fit_on_texts(train_data['comment_texxt'])\n",
        "tokenizer.fit_on_texts(train_data['comment_texxxt'])"
      ],
      "id": "899411b7",
      "execution_count": 23,
      "outputs": []
    },
    {
      "cell_type": "code",
      "metadata": {
        "id": "b15aa307"
      },
      "source": [
        "# Encode training data sentences into sequences\n",
        "train_seq = tokenizer.texts_to_sequences(train_x)"
      ],
      "id": "b15aa307",
      "execution_count": 24,
      "outputs": []
    },
    {
      "cell_type": "code",
      "metadata": {
        "id": "d4d4c5dc"
      },
      "source": [
        "# Get our training data word index\n",
        "word_index = tokenizer.word_index"
      ],
      "id": "d4d4c5dc",
      "execution_count": 25,
      "outputs": []
    },
    {
      "cell_type": "code",
      "metadata": {
        "colab": {
          "base_uri": "https://localhost:8080/"
        },
        "id": "c4b0cd08",
        "outputId": "fc570eaf-4fba-486b-c38b-b328c9bd2913"
      },
      "source": [
        "# Get max training sequence length\n",
        "maxlen = max([len(x) for x in train_seq])\n",
        "print(maxlen)"
      ],
      "id": "c4b0cd08",
      "execution_count": 26,
      "outputs": [
        {
          "output_type": "stream",
          "name": "stdout",
          "text": [
            "1403\n"
          ]
        }
      ]
    },
    {
      "cell_type": "code",
      "metadata": {
        "id": "5ec51db1"
      },
      "source": [
        "# Pad the training sequences\n",
        "train_pad = pad_sequences(train_seq, maxlen = maxlen,\n",
        "                          padding = 'pre',\n",
        "                          truncating='pre')"
      ],
      "id": "5ec51db1",
      "execution_count": 27,
      "outputs": []
    },
    {
      "cell_type": "code",
      "metadata": {
        "colab": {
          "base_uri": "https://localhost:8080/"
        },
        "id": "bc6EFXxz7gg6",
        "outputId": "3e867430-2e46-4bdf-a50d-c5cfa02eb319"
      },
      "source": [
        "train_pad[0:2]"
      ],
      "id": "bc6EFXxz7gg6",
      "execution_count": 28,
      "outputs": [
        {
          "output_type": "execute_result",
          "data": {
            "text/plain": [
              "array([[   0,    0,    0, ...,  110,   33, 1293],\n",
              "       [   0,    0,    0, ...,    8,   98,  289]], dtype=int32)"
            ]
          },
          "metadata": {},
          "execution_count": 28
        }
      ]
    },
    {
      "cell_type": "code",
      "metadata": {
        "colab": {
          "base_uri": "https://localhost:8080/"
        },
        "id": "595f365b",
        "outputId": "28461e7d-6731-4a74-b552-4fbcd53b500e"
      },
      "source": [
        "# print(\"\\nTraining sequences:\\n\", train_seq)\n",
        "# print(\"\\nPadded training sequences:\\n\", train_pad)\n",
        "print(\"\\nPadded training shape:\", train_pad.shape)\n",
        "print(\"Training sequences data type:\", type(train_seq))\n",
        "print(\"Padded Training sequences data type:\", type(train_pad))"
      ],
      "id": "595f365b",
      "execution_count": 29,
      "outputs": [
        {
          "output_type": "stream",
          "name": "stdout",
          "text": [
            "\n",
            "Padded training shape: (127656, 1403)\n",
            "Training sequences data type: <class 'list'>\n",
            "Padded Training sequences data type: <class 'numpy.ndarray'>\n"
          ]
        }
      ]
    },
    {
      "cell_type": "code",
      "metadata": {
        "id": "e4cf2eb8"
      },
      "source": [
        "val_seq = tokenizer.texts_to_sequences(val_x)\n",
        "val_pad = pad_sequences(val_seq, maxlen = maxlen,\n",
        "                        padding = 'pre',\n",
        "                        truncating='pre')"
      ],
      "id": "e4cf2eb8",
      "execution_count": 30,
      "outputs": []
    },
    {
      "cell_type": "code",
      "metadata": {
        "colab": {
          "base_uri": "https://localhost:8080/"
        },
        "id": "78e7230c",
        "outputId": "25bd85d7-9e80-413e-cfa7-4b7c0b9b6945"
      },
      "source": [
        "vocab_size = len(tokenizer.word_index) + 1\n",
        "vocab_size"
      ],
      "id": "78e7230c",
      "execution_count": 31,
      "outputs": [
        {
          "output_type": "execute_result",
          "data": {
            "text/plain": [
              "190214"
            ]
          },
          "metadata": {},
          "execution_count": 31
        }
      ]
    },
    {
      "cell_type": "code",
      "metadata": {
        "id": "4f887606"
      },
      "source": [
        "# !wget dl.fbaipublicfiles.com/fasttext/vectors-english/crawl-300d-2M.vec.zip"
      ],
      "id": "4f887606",
      "execution_count": 32,
      "outputs": []
    },
    {
      "cell_type": "code",
      "metadata": {
        "colab": {
          "base_uri": "https://localhost:8080/"
        },
        "id": "c80cb0df",
        "outputId": "f81c86e5-3e4f-4982-e33c-430ecf0de2ab"
      },
      "source": [
        "!unzip drive/MyDrive/crawl-300d-2M.vec.zip"
      ],
      "id": "c80cb0df",
      "execution_count": 33,
      "outputs": [
        {
          "output_type": "stream",
          "name": "stdout",
          "text": [
            "Archive:  drive/MyDrive/crawl-300d-2M.vec.zip\n",
            "  inflating: crawl-300d-2M.vec       \n"
          ]
        }
      ]
    },
    {
      "cell_type": "code",
      "metadata": {
        "colab": {
          "base_uri": "https://localhost:8080/",
          "height": 84,
          "referenced_widgets": [
            "8dfeb642430f49309603faaa9e5f6bdf",
            "047b41893b924e8bb6b6cb74ec138830",
            "89efbfc6f8ce45f2bbeefe56591eb833",
            "ad4b7122d5c8404b88a461381e550728",
            "23a39ccc1638415d8a8c238babfe77e9",
            "fd584c99c95a4e0ead88df9fc72c3150",
            "00c285ae78644372be4a1c60ad63ac44",
            "d45d8102c5b34aa49d970e47dd92b59a",
            "b3019cf6e0844474b46862ef6dd5934e",
            "8806d9e58bf74700867b88c45f094243",
            "5f9f51647cbc433381405f3ff9e64336"
          ]
        },
        "id": "db42c416",
        "outputId": "be6202f6-baa8-4d96-ebb0-6b950949f7b9"
      },
      "source": [
        "import io\n",
        "from tqdm.auto import tqdm\n",
        "\n",
        "print('loading word embeddings...')\n",
        "embeddings_index = {}\n",
        "f = io.open('crawl-300d-2M.vec', encoding='utf-8')\n",
        "for line in tqdm(f):\n",
        "    values = line.rstrip().rsplit(' ')\n",
        "    word = values[0]\n",
        "    coefs = np.asarray(values[1:], dtype='float32')\n",
        "    embeddings_index[word] = coefs\n",
        "f.close()\n",
        "print('found %s word vectors' % len(embeddings_index))"
      ],
      "id": "db42c416",
      "execution_count": 34,
      "outputs": [
        {
          "output_type": "stream",
          "name": "stdout",
          "text": [
            "loading word embeddings...\n"
          ]
        },
        {
          "output_type": "display_data",
          "data": {
            "application/vnd.jupyter.widget-view+json": {
              "model_id": "8dfeb642430f49309603faaa9e5f6bdf",
              "version_minor": 0,
              "version_major": 2
            },
            "text/plain": [
              "0it [00:00, ?it/s]"
            ]
          },
          "metadata": {}
        },
        {
          "output_type": "stream",
          "name": "stdout",
          "text": [
            "found 1999996 word vectors\n"
          ]
        }
      ]
    },
    {
      "cell_type": "code",
      "metadata": {
        "colab": {
          "base_uri": "https://localhost:8080/"
        },
        "id": "b57b535b",
        "outputId": "3f8ee99f-5a9c-4694-8dea-2b48d6272c21"
      },
      "source": [
        "# Prepare embedding matrix\n",
        "print('preparing embedding matrix...')\n",
        "words_not_found = []\n",
        "nb_words = vocab_size\n",
        "embedding_matrix = np.zeros((nb_words, 300))\n",
        "\n",
        "for word, i in tokenizer.word_index.items():\n",
        "    if i >= nb_words:\n",
        "        continue\n",
        "    embedding_vector = embeddings_index.get(word)\n",
        "    if (embedding_vector is not None) and len(embedding_vector) > 0:\n",
        "        # words not found in embedding index will be all-zeros.\n",
        "        embedding_matrix[i] = embedding_vector\n",
        "    else:\n",
        "        words_not_found.append(word)\n",
        "        \n",
        "print('number of null word embeddings: %d' % np.sum(np.sum(embedding_matrix, axis=1) == 0))"
      ],
      "id": "b57b535b",
      "execution_count": 35,
      "outputs": [
        {
          "output_type": "stream",
          "name": "stdout",
          "text": [
            "preparing embedding matrix...\n",
            "number of null word embeddings: 87561\n"
          ]
        }
      ]
    },
    {
      "cell_type": "code",
      "metadata": {
        "id": "9LvuYHyPu2uJ"
      },
      "source": [
        "def plot_learning_curve(history):\n",
        "  plt.plot(history.history['loss'], label='training')\n",
        "  plt.plot(history.history['val_loss'], label='validation')\n",
        "  plt.legend()\n",
        "  plt.show()"
      ],
      "id": "9LvuYHyPu2uJ",
      "execution_count": 36,
      "outputs": []
    },
    {
      "cell_type": "code",
      "source": [
        "def CNN_model_ref(kernel_num=32, embed_dim=300, kernel_sizes=[1]):\n",
        "  # Input\n",
        "  input = tf.keras.Input(shape=(maxlen,))\n",
        " \n",
        "  # Embedding layers\n",
        "  embedding = tf.keras.layers.Embedding(\n",
        "        input_dim=vocab_size,\n",
        "        output_dim=embed_dim, \n",
        "        input_length=maxlen\n",
        "  )\n",
        "\n",
        "  embed_out = tf.keras.layers.Reshape((maxlen, embed_dim, 1))(embedding(input))\n",
        "\n",
        "  # Convolutional layers (seperate convs for each word groups)\n",
        "  conv_list = [tf.keras.layers.Conv2D(\n",
        "      filters=kernel_num, \n",
        "      kernel_size=(k, embed_dim),\n",
        "      activation='relu',\n",
        "      padding='valid') for k in kernel_sizes]\n",
        "    \n",
        "  conv_outs = [conv(embed_out) for conv in conv_list]\n",
        " \n",
        "  # Max pooling layer (one for each convolutional layer)\n",
        "  max_pool_list = [tf.keras.layers.MaxPool1D(\n",
        "      pool_size = maxlen - k + 1,\n",
        "      padding='valid') for k in kernel_sizes]\n",
        "\n",
        "  max_pool_outs = []\n",
        "\n",
        "  for i in range(len(kernel_sizes)):\n",
        "    max_pool_outs.append(max_pool_list[i](tf.squeeze(conv_outs[i], axis=2)))\n",
        " \n",
        "  # Concatenate layer\n",
        "  concate = tf.keras.layers.Concatenate(axis=1)(max_pool_outs)\n",
        "\n",
        "  # Flatten layer\n",
        "  flat_out = tf.keras.layers.Flatten()(concate)\n",
        "\n",
        "  # Dropout\n",
        "  drop_out = tf.keras.layers.Dropout(0.2)(flat_out)\n",
        " \n",
        "  # Output\n",
        "  output = tf.keras.layers.Dense(6)(drop_out)\n",
        " \n",
        "  # CNN model\n",
        "  return tf.keras.Model(inputs=[input], outputs=[output])"
      ],
      "metadata": {
        "id": "StGIHX7TXynD"
      },
      "id": "StGIHX7TXynD",
      "execution_count": 66,
      "outputs": []
    },
    {
      "cell_type": "code",
      "source": [
        "cnn_ref = CNN_model_ref(kernel_num=100, kernel_sizes=[3, 4, 5])\n",
        "tf.keras.utils.plot_model(cnn_ref, show_shapes=True)"
      ],
      "metadata": {
        "colab": {
          "base_uri": "https://localhost:8080/",
          "height": 673
        },
        "id": "w1ZZ79mwbgYz",
        "outputId": "2ffe9991-c362-4f9a-d378-0c8e6508f0b5"
      },
      "id": "w1ZZ79mwbgYz",
      "execution_count": 67,
      "outputs": [
        {
          "output_type": "execute_result",
          "data": {
            "image/png": "[encoded data removed]",
            "text/plain": [
              "<IPython.core.display.Image object>"
            ]
          },
          "metadata": {},
          "execution_count": 67
        }
      ]
    },
    {
      "cell_type": "code",
      "source": [
        "cnn_ref.summary()"
      ],
      "metadata": {
        "colab": {
          "base_uri": "https://localhost:8080/"
        },
        "id": "YJ4m296sbjbb",
        "outputId": "8b5bfb67-7ecf-4780-d90d-ef4886dca1b1"
      },
      "id": "YJ4m296sbjbb",
      "execution_count": 68,
      "outputs": [
        {
          "output_type": "stream",
          "name": "stdout",
          "text": [
            "Model: \"model_7\"\n",
            "__________________________________________________________________________________________________\n",
            " Layer (type)                   Output Shape         Param #     Connected to                     \n",
            "==================================================================================================\n",
            " input_9 (InputLayer)           [(None, 1403)]       0           []                               \n",
            "                                                                                                  \n",
            " embedding_8 (Embedding)        (None, 1403, 300)    57064200    ['input_9[0][0]']                \n",
            "                                                                                                  \n",
            " reshape_6 (Reshape)            (None, 1403, 300, 1  0           ['embedding_8[0][0]']            \n",
            "                                )                                                                 \n",
            "                                                                                                  \n",
            " conv2d_18 (Conv2D)             (None, 1401, 1, 100  90100       ['reshape_6[0][0]']              \n",
            "                                )                                                                 \n",
            "                                                                                                  \n",
            " conv2d_19 (Conv2D)             (None, 1400, 1, 100  120100      ['reshape_6[0][0]']              \n",
            "                                )                                                                 \n",
            "                                                                                                  \n",
            " conv2d_20 (Conv2D)             (None, 1399, 1, 100  150100      ['reshape_6[0][0]']              \n",
            "                                )                                                                 \n",
            "                                                                                                  \n",
            " tf.compat.v1.squeeze_18 (TFOpL  (None, 1401, 100)   0           ['conv2d_18[0][0]']              \n",
            " ambda)                                                                                           \n",
            "                                                                                                  \n",
            " tf.compat.v1.squeeze_19 (TFOpL  (None, 1400, 100)   0           ['conv2d_19[0][0]']              \n",
            " ambda)                                                                                           \n",
            "                                                                                                  \n",
            " tf.compat.v1.squeeze_20 (TFOpL  (None, 1399, 100)   0           ['conv2d_20[0][0]']              \n",
            " ambda)                                                                                           \n",
            "                                                                                                  \n",
            " max_pooling1d_24 (MaxPooling1D  (None, 1, 100)      0           ['tf.compat.v1.squeeze_18[0][0]']\n",
            " )                                                                                                \n",
            "                                                                                                  \n",
            " max_pooling1d_25 (MaxPooling1D  (None, 1, 100)      0           ['tf.compat.v1.squeeze_19[0][0]']\n",
            " )                                                                                                \n",
            "                                                                                                  \n",
            " max_pooling1d_26 (MaxPooling1D  (None, 1, 100)      0           ['tf.compat.v1.squeeze_20[0][0]']\n",
            " )                                                                                                \n",
            "                                                                                                  \n",
            " concatenate_8 (Concatenate)    (None, 3, 100)       0           ['max_pooling1d_24[0][0]',       \n",
            "                                                                  'max_pooling1d_25[0][0]',       \n",
            "                                                                  'max_pooling1d_26[0][0]']       \n",
            "                                                                                                  \n",
            " flatten_6 (Flatten)            (None, 300)          0           ['concatenate_8[0][0]']          \n",
            "                                                                                                  \n",
            " dropout_6 (Dropout)            (None, 300)          0           ['flatten_6[0][0]']              \n",
            "                                                                                                  \n",
            " dense_7 (Dense)                (None, 6)            1806        ['dropout_6[0][0]']              \n",
            "                                                                                                  \n",
            "==================================================================================================\n",
            "Total params: 57,426,306\n",
            "Trainable params: 57,426,306\n",
            "Non-trainable params: 0\n",
            "__________________________________________________________________________________________________\n"
          ]
        }
      ]
    },
    {
      "cell_type": "code",
      "metadata": {
        "colab": {
          "base_uri": "https://localhost:8080/"
        },
        "id": "Iq7RweY3Wqd6",
        "outputId": "c4d46634-cdda-462a-a554-224dc76f2259"
      },
      "source": [
        "early_stopping = tf.keras.callbacks.EarlyStopping(\n",
        "    monitor='val_loss', \n",
        "    patience=1,\n",
        "    mode='min',\n",
        "    verbose=1\n",
        ")\n",
        "\n",
        "cnn_ref.compile(\n",
        "    loss = tf.keras.losses.BinaryCrossentropy(from_logits=True), \n",
        "    optimizer = tf.keras.optimizers.Adam(learning_rate=0.0005)\n",
        ")\n",
        "\n",
        "history_cnn = cnn_ref.fit(\n",
        "    train_pad,\n",
        "    train_y,\n",
        "    epochs = 4,\n",
        "    validation_data=(val_pad, val_y), \n",
        "    batch_size = 32,\n",
        "    callbacks=[early_stopping] \n",
        ")"
      ],
      "id": "Iq7RweY3Wqd6",
      "execution_count": null,
      "outputs": [
        {
          "output_type": "stream",
          "name": "stdout",
          "text": [
            "Epoch 1/4\n",
            "3990/3990 [==============================] - 841s 211ms/step - loss: 0.0597 - val_loss: 0.0467\n",
            "Epoch 2/4\n",
            "2678/3990 [===================>..........] - ETA: 4:22 - loss: 0.0396"
          ]
        }
      ]
    },
    {
      "cell_type": "code",
      "metadata": {
        "colab": {
          "base_uri": "https://localhost:8080/",
          "height": 265
        },
        "id": "9BxTrtVHt3H7",
        "outputId": "927f878d-6ae5-4620-a7ff-4845c992a80a"
      },
      "source": [
        "plot_learning_curve(history_cnn)"
      ],
      "id": "9BxTrtVHt3H7",
      "execution_count": 47,
      "outputs": [
        {
          "output_type": "display_data",
          "data": {
            "image/png": "[encoded data removed]",
            "text/plain": [
              "<Figure size 432x288 with 1 Axes>"
            ]
          },
          "metadata": {
            "needs_background": "light"
          }
        }
      ]
    },
    {
      "cell_type": "code",
      "metadata": {
        "id": "NGl-UfrDS-uE"
      },
      "source": [
        "test_seq = tokenizer.texts_to_sequences(test_data.comment_texxxt)\n",
        "# test_seq = tokenizer.texts_to_sequences(test_data.comment_texxt)\n",
        "test_pad = pad_sequences(test_seq, maxlen = maxlen,\n",
        "                                padding = 'pre',\n",
        "                                truncating='pre')"
      ],
      "id": "NGl-UfrDS-uE",
      "execution_count": 48,
      "outputs": []
    },
    {
      "cell_type": "code",
      "source": [
        "def prepare_submit_file(model, test_pad, batch_size=200):\n",
        "  predicted = tf.math.sigmoid(model.predict(test_pad, batch_size = batch_size))\n",
        "  predict = np.hstack((test_data.id[:, np.newaxis], predicted))\n",
        "\n",
        "  subm = pd.DataFrame(predict, columns = ['id', 'toxic', 'severe_toxic', 'obscene', 'threat', 'insult', 'identity_hate'])\n",
        "  subm.to_csv('subm.csv', index = False)\n",
        "\n",
        "  print(subm)"
      ],
      "metadata": {
        "id": "fLjcTVN3efDB"
      },
      "id": "fLjcTVN3efDB",
      "execution_count": 49,
      "outputs": []
    },
    {
      "cell_type": "code",
      "metadata": {
        "colab": {
          "base_uri": "https://localhost:8080/"
        },
        "id": "M75XXyGf568F",
        "outputId": "f72b1a0a-ea55-4d9c-9682-35320f3d808e"
      },
      "source": [
        "prepare_submit_file(cnn_100_3_4_5, test_pad, batch_size=200)"
      ],
      "id": "M75XXyGf568F",
      "execution_count": 50,
      "outputs": [
        {
          "output_type": "stream",
          "name": "stderr",
          "text": [
            "/usr/local/lib/python3.7/dist-packages/ipykernel_launcher.py:3: FutureWarning: Support for multi-dimensional indexing (e.g. `obj[:, None]`) is deprecated and will be removed in a future version.  Convert to a numpy array before indexing instead.\n",
            "  This is separate from the ipykernel package so we can avoid doing imports until\n"
          ]
        },
        {
          "output_type": "stream",
          "name": "stdout",
          "text": [
            "                      id      toxic  ...     insult identity_hate\n",
            "0       00001cee341fdb12   0.119835  ...  0.0583535     0.0102002\n",
            "1       0000247867823ef7  0.0789185  ...  0.0334685    0.00481554\n",
            "2       00013b17ad220c46  0.0928181  ...   0.042278    0.00650795\n",
            "3       00017563c3f7919a  0.0417922  ...  0.0161394    0.00174433\n",
            "4       00017695ad8997eb   0.168733  ...  0.0888395     0.0180733\n",
            "...                  ...        ...  ...        ...           ...\n",
            "153159  fffcd0960ee309b5   0.101628  ...  0.0471738    0.00766098\n",
            "153160  fffd7a9a6eb32c16  0.0719913  ...  0.0306211    0.00413677\n",
            "153161  fffda9e8d6fafa9e  0.0803133  ...  0.0352674    0.00498438\n",
            "153162  fffe8f1340a79fc2  0.0649243  ...  0.0273732    0.00353814\n",
            "153163  ffffce3fb183ee80  0.0762992  ...  0.0327612    0.00453828\n",
            "\n",
            "[153164 rows x 7 columns]\n"
          ]
        }
      ]
    }
  ]
}